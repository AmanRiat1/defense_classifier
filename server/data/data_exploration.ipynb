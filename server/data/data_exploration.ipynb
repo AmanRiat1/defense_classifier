{
 "cells": [
  {
   "cell_type": "code",
   "execution_count": 69,
   "metadata": {},
   "outputs": [],
   "source": [
    "import pandas as pd\n",
    "import basketball_reference_scraper\n",
    "from basketball_reference_scraper.players import get_stats, get_game_logs\n",
    "\n",
    "from urllib.request import urlopen\n",
    "from bs4 import BeautifulSoup\n",
    "import math\n",
    "import multiprocessing\n",
    "import sklearn\n",
    "from sklearn.ensemble import RandomForestClassifier\n",
    "from sklearn.model_selection import train_test_split\n",
    "from sklearn import metrics\n",
    "from sklearn.neighbors import KNeighborsClassifier"
   ]
  },
  {
   "cell_type": "code",
   "execution_count": 2,
   "metadata": {},
   "outputs": [],
   "source": [
    "# URL page we will scraping (see image above)\n",
    "url = \"https://www.basketball-reference.com/awards/all_defense_by_player.html\"\n",
    "# this is the HTML from the given URL\n",
    "html = urlopen(url)\n",
    "soup = BeautifulSoup(html)"
   ]
  },
  {
   "cell_type": "code",
   "execution_count": 3,
   "metadata": {},
   "outputs": [],
   "source": [
    "rows = soup.findAll('tr')[1:]\n",
    "all_defensive_names = [rows[i].findAll('td')[1].getText() for i in range(1, len(rows))]"
   ]
  },
  {
   "cell_type": "code",
   "execution_count": 4,
   "metadata": {},
   "outputs": [
    {
     "data": {
      "text/plain": [
       "['Tim Duncan',\n",
       " 'Kobe Bryant',\n",
       " 'Kevin Garnett',\n",
       " 'Kareem Abdul-Jabbar',\n",
       " 'Bobby Jones',\n",
       " 'Scottie Pippen',\n",
       " 'Dennis Johnson',\n",
       " 'Michael Jordan',\n",
       " 'Jason Kidd',\n",
       " 'Hakeem Olajuwon',\n",
       " 'Chris Paul',\n",
       " 'Gary Payton',\n",
       " 'Bruce Bowen',\n",
       " 'Michael Cooper',\n",
       " 'John Havlicek',\n",
       " 'David Robinson',\n",
       " 'Dennis Rodman',\n",
       " 'Norm Van Lier',\n",
       " 'Walt Frazier',\n",
       " 'Tony Allen',\n",
       " 'Mookie Blaylock',\n",
       " 'Don Buse',\n",
       " 'Dave DeBusschere',\n",
       " 'LeBron James',\n",
       " 'Kevin McHale',\n",
       " 'Dikembe Mutombo',\n",
       " 'Alvin Robertson',\n",
       " 'Jerry Sloan',\n",
       " 'Ben Wallace',\n",
       " 'Don Chaney',\n",
       " 'Maurice Cheeks',\n",
       " 'Joe Dumars',\n",
       " 'Mark Eaton',\n",
       " 'Artis Gilmore',\n",
       " 'Draymond Green',\n",
       " 'Dwight Howard',\n",
       " 'Kawhi Leonard',\n",
       " 'Sidney Moncrief',\n",
       " 'Dan Roundfield',\n",
       " 'Paul Silas',\n",
       " 'John Stockton',\n",
       " 'Nate Thurmond',\n",
       " 'Jerry West',\n",
       " 'Quinn Buckner',\n",
       " 'Jimmy Butler',\n",
       " 'Marcus Camby',\n",
       " 'Doug Christie',\n",
       " 'Paul George',\n",
       " 'Horace Grant',\n",
       " 'Karl Malone',\n",
       " 'Tayshaun Prince',\n",
       " 'Rajon Rondo',\n",
       " 'Buck Williams',\n",
       " 'Metta World Peace',\n",
       " 'Larry Bird',\n",
       " 'P.J. Brown',\n",
       " 'Tyson Chandler',\n",
       " 'Dave Cowens',\n",
       " 'Anthony Davis',\n",
       " 'T.R. Dunn',\n",
       " 'Patrick Ewing',\n",
       " 'Rudy Gobert',\n",
       " 'Serge Ibaka',\n",
       " 'Eddie Jones',\n",
       " 'Andrei Kirilenko',\n",
       " 'Bob Love',\n",
       " 'Larry Nance',\n",
       " 'Joakim Noah',\n",
       " \"Shaquille O'Neal\",\n",
       " 'Paul Pressey',\n",
       " 'Brian Taylor',\n",
       " 'Dwyane Wade',\n",
       " 'Giannis Antetokounmpo',\n",
       " 'Shane Battier',\n",
       " 'Raja Bell',\n",
       " 'Patrick Beverley',\n",
       " 'Chauncey Billups',\n",
       " 'Avery Bradley',\n",
       " 'Jim Brewer',\n",
       " 'Bill Bridges',\n",
       " 'Joe Caldwell',\n",
       " 'Wilt Chamberlain',\n",
       " 'E.C. Coleman',\n",
       " 'Joel Embiid',\n",
       " 'Mike Gale',\n",
       " 'Derek Harper',\n",
       " 'Elvin Hayes',\n",
       " 'Jrue Holiday',\n",
       " 'Lionel Hollins',\n",
       " 'Andre Iguodala',\n",
       " 'Eddie Johnson',\n",
       " 'Gus Johnson',\n",
       " 'Caldwell Jones',\n",
       " 'DeAndre Jordan',\n",
       " 'Julius Keye',\n",
       " 'Maurice Lucas',\n",
       " 'Dan Majerle',\n",
       " 'Moses Malone',\n",
       " 'Rodney McCray',\n",
       " 'Derrick McKey',\n",
       " 'Nate McMillan',\n",
       " 'Alonzo Mourning',\n",
       " 'Charles Oakley',\n",
       " 'Theo Ratliff',\n",
       " 'Micheal Ray Richardson',\n",
       " 'Clifford Robinson',\n",
       " 'Tree Rollins',\n",
       " 'Fatty Taylor',\n",
       " 'Bill Walton',\n",
       " 'Kermit Washington',\n",
       " 'Jamaal Wilkes',\n",
       " 'Willie Wise',\n",
       " 'Eric Bledsoe',\n",
       " 'Andrew Bogut',\n",
       " 'Manute Bol',\n",
       " 'Dudley Bradley',\n",
       " 'M.L. Carr',\n",
       " 'Jim Cleamons',\n",
       " 'Mike Conley',\n",
       " 'Robert Covington',\n",
       " 'Bob Dandridge',\n",
       " 'Luol Deng',\n",
       " 'Julius Erving',\n",
       " 'Marc Gasol',\n",
       " 'A.C. Green',\n",
       " 'Danny Green',\n",
       " 'Bob Gross',\n",
       " 'Bill Hanzlik',\n",
       " 'Roy Hibbert',\n",
       " 'Kirk Hinrich',\n",
       " 'Al Horford',\n",
       " 'Larry Hughes',\n",
       " 'George Johnson',\n",
       " 'Wil Jones',\n",
       " 'Rudy LaRusso',\n",
       " 'Fat Lever',\n",
       " 'Rick Mahorn',\n",
       " 'Anthony Mason',\n",
       " 'Ted McClain',\n",
       " 'Paul Millsap',\n",
       " 'Dejounte Murray',\n",
       " 'Victor Oladipo',\n",
       " 'Bobby Phills',\n",
       " 'Jim Price',\n",
       " 'Willis Reed',\n",
       " 'Mike Riordan',\n",
       " 'Andre Roberson',\n",
       " 'Bill Russell',\n",
       " 'Tom Sanders',\n",
       " 'Thabo Sefolosha',\n",
       " 'Lonnie Shelton',\n",
       " 'Jack Sikma',\n",
       " 'Marcus Smart',\n",
       " 'Josh Smith',\n",
       " 'Phil Smith',\n",
       " 'Eric Snow',\n",
       " 'Latrell Sprewell',\n",
       " 'John Starks',\n",
       " 'Klay Thompson',\n",
       " 'Dick Van Arsdale',\n",
       " 'Anderson Varejão',\n",
       " 'Danny Vranes',\n",
       " 'John Wall',\n",
       " 'Gerald Wallace',\n",
       " 'Slick Watts',\n",
       " 'Scott Wedman',\n",
       " 'Hassan Whiteside',\n",
       " 'Micheal Williams']"
      ]
     },
     "execution_count": 4,
     "metadata": {},
     "output_type": "execute_result"
    }
   ],
   "source": [
    "all_defensive_names"
   ]
  },
  {
   "cell_type": "code",
   "execution_count": 5,
   "metadata": {
    "scrolled": true
   },
   "outputs": [],
   "source": [
    "players = pd.read_csv('nba_rookies.csv')\n",
    "players = players.dropna()\n",
    "rookie_names = players['Name'].values"
   ]
  },
  {
   "cell_type": "code",
   "execution_count": 35,
   "metadata": {},
   "outputs": [],
   "source": [
    "def rookie_frame(range_list, return_dict):\n",
    "    rookie_dataframe = get_stats(rookie_names[range_list[0]], stat_type='ADVANCED', playoffs=False, career=False)[0:1]\n",
    "    rookie_dataframe['Name'] = rookie_names[range_list[0]]\n",
    "    \n",
    "    if rookie_names[range_list[0]] in all_defensive_names:\n",
    "        rookie_dataframe['all_defensive'] = 1\n",
    "    else:\n",
    "        rookie_dataframe['all_defensive'] = 0\n",
    "    \n",
    "    rookie_dataframe['all_defensive'] = 0\n",
    "    for rookie in range (range_list[0]+1, range_list[1]):\n",
    "        try:\n",
    "            rookie_stats = get_stats(rookie_names[rookie], stat_type='ADVANCED', playoffs=False, career=False).loc[0]\n",
    "            rookie_stats['Name'] = rookie_names[rookie]\n",
    "            if rookie_names[rookie] in all_defensive_names:\n",
    "                rookie_stats['all_defensive'] = 1\n",
    "            else:\n",
    "                rookie_stats['all_defensive'] = 0\n",
    "            rookie_dataframe = rookie_dataframe.append(rookie_stats, ignore_index=True)\n",
    "        #Due to name formatting some players can't be found\n",
    "        except:\n",
    "            pass\n",
    "    return_dict[rookie_names[range_list[0]]] = rookie_dataframe\n",
    "    return rookie_dataframe"
   ]
  },
  {
   "cell_type": "code",
   "execution_count": null,
   "metadata": {},
   "outputs": [],
   "source": [
    "split = int(len(rookie_names)/5)\n",
    "names_split = [(0,split), (split, split*2), (split*2, split*3), (split*3, split*4), (split*4, 1538)]\n",
    "processes = []\n",
    "for name_range in names_split:\n",
    "    manager = multiprocessing.Manager()\n",
    "    return_dict = manager.dict()\n",
    "    p = multiprocessing.Process(target=rookie_frame, args=(name_range, return_dict))\n",
    "    processes.append(p)\n",
    "    p.start()\n",
    "for process in processes:\n",
    "    process.join()\n",
    "for x in range(len((return_dict.values()))):\n",
    "    return_dict.values()[x].to_csv(f'{x}'.csv)"
   ]
  },
  {
   "cell_type": "code",
   "execution_count": 40,
   "metadata": {},
   "outputs": [
    {
     "name": "stderr",
     "output_type": "stream",
     "text": [
      "C:\\Users\\Aman Riat\\Anaconda3\\envs\\defense_classifier\\lib\\site-packages\\pandas\\core\\frame.py:7138: FutureWarning: Sorting because non-concatenation axis is not aligned. A future version\n",
      "of pandas will change to not sort by default.\n",
      "\n",
      "To accept the future behavior, pass 'sort=False'.\n",
      "\n",
      "To retain the current behavior and silence the warning, pass 'sort=True'.\n",
      "\n",
      "  sort=sort,\n"
     ]
    }
   ],
   "source": [
    "csv_list = ['307.csv', '614.csv', '921.csv', '1228.csv']\n",
    "train_df = pd.read_csv('0.csv')\n",
    "for x in csv_list:\n",
    "    train_df = train_df.append(pd.read_csv(x), ignore_index=True)\n",
    "    "
   ]
  },
  {
   "cell_type": "code",
   "execution_count": 41,
   "metadata": {},
   "outputs": [],
   "source": [
    "#Decided to leave teams as that may have an impact\n",
    "train_df = train_df.drop(['Unnamed: 0','TEAM', 'AGE', 'Name', 'SEASON', 'LEAGUE', 'POS'], axis=1)"
   ]
  },
  {
   "cell_type": "code",
   "execution_count": 49,
   "metadata": {},
   "outputs": [],
   "source": [
    "train_df.to_csv('train.csv',index=False)"
   ]
  },
  {
   "cell_type": "code",
   "execution_count": 102,
   "metadata": {},
   "outputs": [],
   "source": [
    "example = get_stats('Ben Simmons', stat_type='ADVANCED', playoffs=False, career=False)[:1].drop([ 'AGE', 'SEASON', 'LEAGUE', 'POS', 'TEAM'], axis=1)"
   ]
  },
  {
   "cell_type": "code",
   "execution_count": 103,
   "metadata": {
    "scrolled": true
   },
   "outputs": [
    {
     "data": {
      "text/html": [
       "<div>\n",
       "<style scoped>\n",
       "    .dataframe tbody tr th:only-of-type {\n",
       "        vertical-align: middle;\n",
       "    }\n",
       "\n",
       "    .dataframe tbody tr th {\n",
       "        vertical-align: top;\n",
       "    }\n",
       "\n",
       "    .dataframe thead th {\n",
       "        text-align: right;\n",
       "    }\n",
       "</style>\n",
       "<table border=\"1\" class=\"dataframe\">\n",
       "  <thead>\n",
       "    <tr style=\"text-align: right;\">\n",
       "      <th></th>\n",
       "      <th>G</th>\n",
       "      <th>MP</th>\n",
       "      <th>PER</th>\n",
       "      <th>TS%</th>\n",
       "      <th>3PAr</th>\n",
       "      <th>FTr</th>\n",
       "      <th>ORB%</th>\n",
       "      <th>DRB%</th>\n",
       "      <th>TRB%</th>\n",
       "      <th>AST%</th>\n",
       "      <th>...</th>\n",
       "      <th>TOV%</th>\n",
       "      <th>USG%</th>\n",
       "      <th>OWS</th>\n",
       "      <th>DWS</th>\n",
       "      <th>WS</th>\n",
       "      <th>WS/48</th>\n",
       "      <th>OBPM</th>\n",
       "      <th>DBPM</th>\n",
       "      <th>BPM</th>\n",
       "      <th>VORP</th>\n",
       "    </tr>\n",
       "  </thead>\n",
       "  <tbody>\n",
       "    <tr>\n",
       "      <th>0</th>\n",
       "      <td>81</td>\n",
       "      <td>2732</td>\n",
       "      <td>20.0</td>\n",
       "      <td>0.557</td>\n",
       "      <td>0.011</td>\n",
       "      <td>0.342</td>\n",
       "      <td>5.9</td>\n",
       "      <td>19.5</td>\n",
       "      <td>13.0</td>\n",
       "      <td>37.4</td>\n",
       "      <td>...</td>\n",
       "      <td>19.5</td>\n",
       "      <td>22.3</td>\n",
       "      <td>4.2</td>\n",
       "      <td>5.0</td>\n",
       "      <td>9.2</td>\n",
       "      <td>0.162</td>\n",
       "      <td>2.0</td>\n",
       "      <td>2.5</td>\n",
       "      <td>4.5</td>\n",
       "      <td>4.5</td>\n",
       "    </tr>\n",
       "  </tbody>\n",
       "</table>\n",
       "<p>1 rows × 22 columns</p>\n",
       "</div>"
      ],
      "text/plain": [
       "    G    MP   PER    TS%   3PAr    FTr  ORB%  DRB%  TRB%  AST%  ...  TOV%  \\\n",
       "0  81  2732  20.0  0.557  0.011  0.342   5.9  19.5  13.0  37.4  ...  19.5   \n",
       "\n",
       "   USG%  OWS  DWS   WS  WS/48  OBPM  DBPM  BPM  VORP  \n",
       "0  22.3  4.2  5.0  9.2  0.162   2.0   2.5  4.5   4.5  \n",
       "\n",
       "[1 rows x 22 columns]"
      ]
     },
     "execution_count": 103,
     "metadata": {},
     "output_type": "execute_result"
    }
   ],
   "source": [
    "example"
   ]
  },
  {
   "cell_type": "code",
   "execution_count": 79,
   "metadata": {},
   "outputs": [
    {
     "name": "stdout",
     "output_type": "stream",
     "text": [
      "Accuracy: 0.9495192307692307\n"
     ]
    }
   ],
   "source": [
    "rf = RandomForestClassifier(n_estimators=300, max_depth=3)\n",
    "X = train_df.copy().dropna()\n",
    "Y = X['all_defensive']\n",
    "X.drop(['all_defensive'], axis=1, inplace=True)\n",
    "X_train, X_test, y_train, y_test = train_test_split(X, Y, test_size=0.3, random_state=42)\n",
    "\n",
    "rf.fit(X_train, y_train)\n",
    "\n",
    "y_pred = rf.predict(X_test)\n",
    "\n",
    "print(\"Accuracy:\", metrics.accuracy_score(y_test, y_pred))"
   ]
  },
  {
   "cell_type": "code",
   "execution_count": 58,
   "metadata": {},
   "outputs": [],
   "source": [
    "feature_importances = pd.DataFrame(rf.feature_importances_,\n",
    "                                   index = X_train.columns,\n",
    "                                    columns=['importance']).sort_values('importance', ascending=False)"
   ]
  },
  {
   "cell_type": "code",
   "execution_count": 101,
   "metadata": {},
   "outputs": [
    {
     "data": {
      "text/plain": [
       "array([[394,   0],\n",
       "       [ 21,   1]], dtype=int64)"
      ]
     },
     "execution_count": 101,
     "metadata": {},
     "output_type": "execute_result"
    }
   ],
   "source": [
    "metrics.confusion_matrix(y_test, y_pred)"
   ]
  },
  {
   "cell_type": "code",
   "execution_count": 100,
   "metadata": {},
   "outputs": [
    {
     "data": {
      "text/plain": [
       "0    1331\n",
       "1      91\n",
       "Name: all_defensive, dtype: int64"
      ]
     },
     "execution_count": 100,
     "metadata": {},
     "output_type": "execute_result"
    }
   ],
   "source": [
    "train_df['all_defensive'].value_counts()"
   ]
  },
  {
   "cell_type": "code",
   "execution_count": null,
   "metadata": {},
   "outputs": [],
   "source": []
  }
 ],
 "metadata": {
  "kernelspec": {
   "display_name": "Python nba_classify",
   "language": "python",
   "name": "nba_classifier"
  },
  "language_info": {
   "codemirror_mode": {
    "name": "ipython",
    "version": 3
   },
   "file_extension": ".py",
   "mimetype": "text/x-python",
   "name": "python",
   "nbconvert_exporter": "python",
   "pygments_lexer": "ipython3",
   "version": "3.6.10"
  }
 },
 "nbformat": 4,
 "nbformat_minor": 2
}
