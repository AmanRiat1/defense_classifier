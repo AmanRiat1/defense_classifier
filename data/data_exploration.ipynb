{
 "cells": [
  {
   "cell_type": "code",
   "execution_count": 2,
   "metadata": {},
   "outputs": [
    {
     "data": {
      "text/html": [
       "        <script type=\"text/javascript\">\n",
       "        window.PlotlyConfig = {MathJaxConfig: 'local'};\n",
       "        if (window.MathJax) {MathJax.Hub.Config({SVG: {font: \"STIX-Web\"}});}\n",
       "        if (typeof require !== 'undefined') {\n",
       "        require.undef(\"plotly\");\n",
       "        requirejs.config({\n",
       "            paths: {\n",
       "                'plotly': ['https://cdn.plot.ly/plotly-latest.min']\n",
       "            }\n",
       "        });\n",
       "        require(['plotly'], function(Plotly) {\n",
       "            window._Plotly = Plotly;\n",
       "        });\n",
       "        }\n",
       "        </script>\n",
       "        "
      ]
     },
     "metadata": {},
     "output_type": "display_data"
    }
   ],
   "source": [
    "import pandas as pd\n",
    "import numpy as np\n",
    "import basketball_reference_scraper\n",
    "from basketball_reference_scraper.players import get_stats, get_game_logs\n",
    "from urllib.request import urlopen\n",
    "from bs4 import BeautifulSoup\n",
    "import pickle\n",
    "\n",
    "from sklearn.ensemble import RandomForestClassifier\n",
    "from sklearn.svm import SVC\n",
    "from sklearn.linear_model import LogisticRegression\n",
    "from sklearn.model_selection import train_test_split\n",
    "from sklearn import metrics\n",
    "from sklearn.neighbors import KNeighborsClassifier\n",
    "from sklearn.utils import resample\n",
    "from sklearn.feature_selection import RFE\n",
    "from sklearn.model_selection import GridSearchCV\n",
    "from sklearn.model_selection import cross_val_score\n",
    "from sklearn.model_selection import KFold\n",
    "\n",
    "import matplotlib.pyplot as plt\n",
    "from pandas.plotting import scatter_matrix\n",
    "import seaborn \n",
    "from plotly.offline import init_notebook_mode,iplot\n",
    "import plotly.graph_objects as go\n",
    "init_notebook_mode(connected=True)"
   ]
  },
  {
   "cell_type": "code",
   "execution_count": 19,
   "metadata": {
    "scrolled": true
   },
   "outputs": [],
   "source": [
    "train_df = pd.read_csv('train.csv')"
   ]
  },
  {
   "cell_type": "code",
   "execution_count": 20,
   "metadata": {},
   "outputs": [
    {
     "data": {
      "text/plain": [
       "array([[<matplotlib.axes._subplots.AxesSubplot object at 0x000001FA5A469DD8>,\n",
       "        <matplotlib.axes._subplots.AxesSubplot object at 0x000001FA5A48CDA0>,\n",
       "        <matplotlib.axes._subplots.AxesSubplot object at 0x000001FA5A4C5390>,\n",
       "        <matplotlib.axes._subplots.AxesSubplot object at 0x000001FA5A4F2940>,\n",
       "        <matplotlib.axes._subplots.AxesSubplot object at 0x000001FA5A523EF0>],\n",
       "       [<matplotlib.axes._subplots.AxesSubplot object at 0x000001FA5A5604E0>,\n",
       "        <matplotlib.axes._subplots.AxesSubplot object at 0x000001FA5A591A90>,\n",
       "        <matplotlib.axes._subplots.AxesSubplot object at 0x000001FA5A5CF0B8>,\n",
       "        <matplotlib.axes._subplots.AxesSubplot object at 0x000001FA5A5CF0F0>,\n",
       "        <matplotlib.axes._subplots.AxesSubplot object at 0x000001FA5A632BE0>],\n",
       "       [<matplotlib.axes._subplots.AxesSubplot object at 0x000001FA5A66F1D0>,\n",
       "        <matplotlib.axes._subplots.AxesSubplot object at 0x000001FA5A6A2780>,\n",
       "        <matplotlib.axes._subplots.AxesSubplot object at 0x000001FA5A6D4D30>,\n",
       "        <matplotlib.axes._subplots.AxesSubplot object at 0x000001FA5A711320>,\n",
       "        <matplotlib.axes._subplots.AxesSubplot object at 0x000001FA5A7408D0>],\n",
       "       [<matplotlib.axes._subplots.AxesSubplot object at 0x000001FA5A775E80>,\n",
       "        <matplotlib.axes._subplots.AxesSubplot object at 0x000001FA5A7B1470>,\n",
       "        <matplotlib.axes._subplots.AxesSubplot object at 0x000001FA5A7E1A20>,\n",
       "        <matplotlib.axes._subplots.AxesSubplot object at 0x000001FA5A813FD0>,\n",
       "        <matplotlib.axes._subplots.AxesSubplot object at 0x000001FA5A8505C0>],\n",
       "       [<matplotlib.axes._subplots.AxesSubplot object at 0x000001FA5A881B70>,\n",
       "        <matplotlib.axes._subplots.AxesSubplot object at 0x000001FA5A8C1160>,\n",
       "        <matplotlib.axes._subplots.AxesSubplot object at 0x000001FA5A8EF710>,\n",
       "        <matplotlib.axes._subplots.AxesSubplot object at 0x000001FA5A922CC0>,\n",
       "        <matplotlib.axes._subplots.AxesSubplot object at 0x000001FA5A9612B0>]],\n",
       "      dtype=object)"
      ]
     },
     "execution_count": 20,
     "metadata": {},
     "output_type": "execute_result"
    },
    {
     "data": {
      "image/png": "[encoded data removed]",
      "text/plain": [
       "<Figure size 432x288 with 25 Axes>"
      ]
     },
     "metadata": {
      "needs_background": "light"
     },
     "output_type": "display_data"
    }
   ],
   "source": [
    "train_df.hist()"
   ]
  },
  {
   "cell_type": "code",
   "execution_count": 4,
   "metadata": {},
   "outputs": [
    {
     "data": {
      "application/vnd.plotly.v1+json": {
       "config": {
        "plotlyServerURL": "https://plot.ly"
       },
       "data": [
        {
         "colorbar": {
          "title": {
           "side": "right",
           "text": "Pearson Correlation coefficient"
          }
         },
         "colorscale": [
          [
           0,
           "#000004"
          ],
          [
           0.1111111111111111,
           "#180f3d"
          ],
          [
           0.2222222222222222,
           "#440f76"
          ],
          [
           0.3333333333333333,
           "#721f81"
          ],
          [
           0.4444444444444444,
           "#9e2f7f"
          ],
          [
           0.5555555555555556,
           "#cd4071"
          ],
          [
           0.6666666666666666,
           "#f1605d"
          ],
          [
           0.7777777777777778,
           "#fd9668"
          ],
          [
           0.8888888888888888,
           "#feca8d"
          ],
          [
           1,
           "#fcfdbf"
          ]
         ],
         "type": "heatmap",
         "x": [
          "3PAr",
          "AST%",
          "BLK%",
          "BPM",
          "DBPM",
          "DRB%",
          "DWS",
          "FTr",
          "G",
          "MP",
          "OBPM",
          "ORB%",
          "OWS",
          "PER",
          "STL%",
          "TOV%",
          "TRB%",
          "TS%",
          "USG%",
          "VORP",
          "WS",
          "WS/48",
          "all_defensive"
         ],
         "y": [
          "3PAr",
          "AST%",
          "BLK%",
          "BPM",
          "DBPM",
          "DRB%",
          "DWS",
          "FTr",
          "G",
          "MP",
          "OBPM",
          "ORB%",
          "OWS",
          "PER",
          "STL%",
          "TOV%",
          "TRB%",
          "TS%",
          "USG%",
          "VORP",
          "WS",
          "WS/48",
          "all_defensive"
         ],
         "z": [
          [
           1,
           0.27967580665602904,
           -0.3355427810740549,
           0.056725115910731656,
           -0.06828444317480552,
           -0.3811006377401149,
           -0.16511165623536977,
           -0.39934346668544574,
           -0.08353563966739039,
           -0.010130550181160825,
           0.10481912450925568,
           -0.5948848983531473,
           -0.05842561781877877,
           -0.19812171303437803,
           0.1142098564206499,
           -0.1051383958139119,
           -0.5093034588438345,
           -0.09960781585016426,
           -0.006475560644403315,
           0.019759744218992337,
           -0.11756452619294451,
           -0.15010453073778532,
           -0.031691932802082094
          ],
          [
           0.27967580665602904,
           1,
           -0.4766603451513001,
           0.20177739137113956,
           0.020600074408672592,
           -0.5703270828950951,
           0.037195417150927286,
           -0.2090186286077261,
           0.11825066451514112,
           0.19781304325586177,
           0.22895403886195073,
           -0.6187206162990836,
           -0.019107368111407046,
           0.056991665290557464,
           0.4901922247448288,
           0.41143940102503085,
           -0.6369201356393719,
           -0.18173190107782103,
           0.22957480844007266,
           0.22092810751436398,
           0.0047720411647436695,
           -0.16391556693624693,
           0.04590423740988535
          ],
          [
           -0.3355427810740549,
           -0.4766603451513001,
           1,
           0.14810689312099598,
           0.3935374598096166,
           0.6126963440341626,
           0.2787788214443908,
           0.2322090437144562,
           0.022696187674574892,
           0.015512049763483773,
           -0.04239603704793582,
           0.5201491780982859,
           0.11409678470379318,
           0.25866298024874,
           -0.2719748394179757,
           -0.057775748341128495,
           0.620373450655507,
           0.21003539327413553,
           -0.1778038506886326,
           0.13474866082078685,
           0.20918906632465692,
           0.29345798463214434,
           0.17645957461077544
          ],
          [
           0.056725115910731656,
           0.20177739137113956,
           0.14810689312099598,
           1,
           0.5518062964942185,
           0.0867515195354002,
           0.591663584455771,
           0.06977191504838551,
           0.42745377887400887,
           0.537786264364836,
           0.8858824384818125,
           0.03932053259023023,
           0.6839132632086738,
           0.7970130266709602,
           0.33502561598925246,
           -0.2195764790610447,
           0.07437297617229728,
           0.6112560268904418,
           0.039729119764380975,
           0.7995861430810053,
           0.7478041031607946,
           0.7760919989095499,
           0.2707159987308549
          ],
          [
           -0.06828444317480552,
           0.020600074408672592,
           0.3935374598096166,
           0.5518062964942185,
           1,
           0.18412278882940966,
           0.5133740758657537,
           0.1350968810093559,
           0.17317365233199492,
           0.10880620520110396,
           0.10244748451946004,
           0.04423415132580625,
           0.14838438894688638,
           0.19524145024744838,
           0.4404510301405688,
           0.15644783732352688,
           0.14037587019736555,
           0.20219480524002978,
           -0.3687224152030538,
           0.43771305977984876,
           0.3431973382876207,
           0.43892208120072,
           0.27025587002804197
          ],
          [
           -0.3811006377401149,
           -0.5703270828950951,
           0.6126963440341626,
           0.0867515195354002,
           0.18412278882940966,
           1,
           0.3251688197564152,
           0.23825127811334026,
           0.04936522776628025,
           0.07485758998606108,
           0.0016107051075126798,
           0.7135139428305082,
           0.18745748056492426,
           0.3022616776756439,
           -0.3657105220948914,
           -0.0774187828856853,
           0.946806886164334,
           0.26839056052726207,
           -0.1733037600529197,
           0.10622732084763334,
           0.28111553321274585,
           0.35962452685210006,
           0.09688617100539318
          ],
          [
           -0.16511165623536977,
           0.037195417150927286,
           0.2787788214443908,
           0.591663584455771,
           0.5133740758657537,
           0.3251688197564152,
           1,
           0.11067306008996265,
           0.624825552523853,
           0.7340892484796979,
           0.42126941983586547,
           0.17494004867575294,
           0.47373464369299045,
           0.502360144129568,
           0.14441678480128148,
           -0.019247615443119055,
           0.28540717649225833,
           0.3248589095305128,
           0.07840712957602457,
           0.6445695991621633,
           0.7961407372142032,
           0.49207753850013053,
           0.3505226171460092
          ],
          [
           -0.39934346668544574,
           -0.2090186286077261,
           0.2322090437144562,
           0.06977191504838551,
           0.1350968810093559,
           0.23825127811334026,
           0.11067306008996265,
           1,
           -0.015890881178845864,
           -0.01898659125346782,
           0.008220477360173978,
           0.35406188088928797,
           0.1575492065299252,
           0.06324073536058063,
           -0.07510928321586068,
           0.11348153660844507,
           0.3107216148121843,
           0.17473890834010636,
           0.02534386076535653,
           0.08937269540721551,
           0.1603284733581475,
           0.07898245093477523,
           0.08908705959332072
          ],
          [
           -0.08353563966739039,
           0.11825066451514112,
           0.022696187674574892,
           0.42745377887400887,
           0.17317365233199492,
           0.04936522776628025,
           0.624825552523853,
           -0.015890881178845864,
           1,
           0.7922476128002008,
           0.4141312748096218,
           0.0014042196970272679,
           0.36528740910091706,
           0.37425864977049395,
           0.06260765296996901,
           -0.043892776147770575,
           0.03139641123266651,
           0.3313018748440665,
           0.028679248830202942,
           0.28015276576963677,
           0.5455646259677194,
           0.33657928434450446,
           0.15249888554915966
          ],
          [
           -0.010130550181160825,
           0.19781304325586177,
           0.015512049763483773,
           0.537786264364836,
           0.10880620520110396,
           0.07485758998606108,
           0.7340892484796979,
           -0.01898659125346782,
           0.7922476128002008,
           1,
           0.5815809347798425,
           -0.054406656600865196,
           0.5421134931395146,
           0.5019121745056474,
           0.07804795843824155,
           -0.12446043418338987,
           0.019348320725806948,
           0.3207373833215268,
           0.1828666232044239,
           0.504882730921444,
           0.7185094675511996,
           0.3283263649436181,
           0.21615744601544287
          ],
          [
           0.10481912450925568,
           0.22895403886195073,
           -0.04239603704793582,
           0.8858824384818125,
           0.10244748451946004,
           0.0016107051075126798,
           0.42126941983586547,
           0.008220477360173978,
           0.4141312748096218,
           0.5815809347798425,
           1,
           0.023320025304592137,
           0.7336258652875626,
           0.8424590516610649,
           0.15461409498656115,
           -0.3474988999953571,
           0.01146344708447347,
           0.61722247802017,
           0.2526126790096926,
           0.7106703623788394,
           0.7018710327805406,
           0.6820626499649445,
           0.17217804513123366
          ],
          [
           -0.5948848983531473,
           -0.6187206162990836,
           0.5201491780982859,
           0.03932053259023023,
           0.04423415132580625,
           0.7135139428305082,
           0.17494004867575294,
           0.35406188088928797,
           0.0014042196970272679,
           -0.054406656600865196,
           0.023320025304592137,
           1,
           0.21673552218722078,
           0.3312892304177989,
           -0.2640450399579164,
           -0.10782257796089295,
           0.9002847240201,
           0.24965845040998821,
           -0.08255742413964186,
           0.05610560572070401,
           0.23090599998093558,
           0.38680988316451304,
           0.05536494969763528
          ],
          [
           -0.05842561781877877,
           -0.019107368111407046,
           0.11409678470379318,
           0.6839132632086738,
           0.14838438894688638,
           0.18745748056492426,
           0.47373464369299045,
           0.1575492065299252,
           0.36528740910091706,
           0.5421134931395146,
           0.7336258652875626,
           0.21673552218722078,
           1,
           0.7022679921451145,
           -0.01287190933622219,
           -0.3069127881261747,
           0.21713937467125088,
           0.615041026887284,
           0.06037133476114774,
           0.7815803810654475,
           0.9095950407945474,
           0.7045454318419127,
           0.17981208406809865
          ],
          [
           -0.19812171303437803,
           0.056991665290557464,
           0.25866298024874,
           0.7970130266709602,
           0.19524145024744838,
           0.3022616776756439,
           0.502360144129568,
           0.06324073536058063,
           0.37425864977049395,
           0.5019121745056474,
           0.8424590516610649,
           0.3312892304177989,
           0.7022679921451145,
           1,
           0.13951150887160033,
           -0.2777893292294929,
           0.33892962661856096,
           0.6928894998919041,
           0.3177289169666667,
           0.6660615072165427,
           0.718221286003678,
           0.8080672686098502,
           0.20139942033697233
          ],
          [
           0.1142098564206499,
           0.4901922247448288,
           -0.2719748394179757,
           0.33502561598925246,
           0.4404510301405688,
           -0.3657105220948914,
           0.14441678480128148,
           -0.07510928321586068,
           0.06260765296996901,
           0.07804795843824155,
           0.15461409498656115,
           -0.2640450399579164,
           -0.01287190933622219,
           0.13951150887160033,
           1,
           0.21978595313315674,
           -0.34816078210908136,
           -0.11915658224918718,
           0.05132328597725379,
           0.28318112444633203,
           0.059177669149190086,
           0.04307266484622551,
           0.12247907945031891
          ],
          [
           -0.1051383958139119,
           0.41143940102503085,
           -0.057775748341128495,
           -0.2195764790610447,
           0.15644783732352688,
           -0.0774187828856853,
           -0.019247615443119055,
           0.11348153660844507,
           -0.043892776147770575,
           -0.12446043418338987,
           -0.3474988999953571,
           -0.10782257796089295,
           -0.3069127881261747,
           -0.2777893292294929,
           0.21978595313315674,
           1,
           -0.09486919683816909,
           -0.09523026802404043,
           -0.14272856909708295,
           -0.11542956680392565,
           -0.21893501542145,
           -0.30124697282839474,
           0.059662614486197134
          ],
          [
           -0.5093034588438345,
           -0.6369201356393719,
           0.620373450655507,
           0.07437297617229728,
           0.14037587019736555,
           0.946806886164334,
           0.28540717649225833,
           0.3107216148121843,
           0.03139641123266651,
           0.019348320725806948,
           0.01146344708447347,
           0.9002847240201,
           0.21713937467125088,
           0.33892962661856096,
           -0.34816078210908136,
           -0.09486919683816909,
           1,
           0.2842794108576261,
           -0.1463505327336719,
           0.09479176878147137,
           0.28300858202248097,
           0.40406942602339824,
           0.08693761431651154
          ],
          [
           -0.09960781585016426,
           -0.18173190107782103,
           0.21003539327413553,
           0.6112560268904418,
           0.20219480524002978,
           0.26839056052726207,
           0.3248589095305128,
           0.17473890834010636,
           0.3313018748440665,
           0.3207373833215268,
           0.61722247802017,
           0.24965845040998821,
           0.615041026887284,
           0.6928894998919041,
           -0.11915658224918718,
           -0.09523026802404043,
           0.2842794108576261,
           1,
           -0.0582863315174142,
           0.4257879558247983,
           0.5747796338870581,
           0.7830476493667008,
           0.12226479328356966
          ],
          [
           -0.006475560644403315,
           0.22957480844007266,
           -0.1778038506886326,
           0.039729119764380975,
           -0.3687224152030538,
           -0.1733037600529197,
           0.07840712957602457,
           0.02534386076535653,
           0.028679248830202942,
           0.1828666232044239,
           0.2526126790096926,
           -0.08255742413964186,
           0.06037133476114774,
           0.3177289169666667,
           0.05132328597725379,
           -0.14272856909708295,
           -0.1463505327336719,
           -0.0582863315174142,
           1,
           0.16588444044954376,
           0.07869025603117616,
           -0.15502723981928887,
           0.011749582736609067
          ],
          [
           0.019759744218992337,
           0.22092810751436398,
           0.13474866082078685,
           0.7995861430810053,
           0.43771305977984876,
           0.10622732084763334,
           0.6445695991621633,
           0.08937269540721551,
           0.28015276576963677,
           0.504882730921444,
           0.7106703623788394,
           0.05610560572070401,
           0.7815803810654475,
           0.6660615072165427,
           0.28318112444633203,
           -0.11542956680392565,
           0.09479176878147137,
           0.4257879558247983,
           0.16588444044954376,
           1,
           0.8404645379287912,
           0.5874909098996492,
           0.32858755468525463
          ],
          [
           -0.11756452619294451,
           0.0047720411647436695,
           0.20918906632465692,
           0.7478041031607946,
           0.3431973382876207,
           0.28111553321274585,
           0.7961407372142032,
           0.1603284733581475,
           0.5455646259677194,
           0.7185094675511996,
           0.7018710327805406,
           0.23090599998093558,
           0.9095950407945474,
           0.718221286003678,
           0.059177669149190086,
           -0.21893501542145,
           0.28300858202248097,
           0.5747796338870581,
           0.07869025603117616,
           0.8404645379287912,
           1,
           0.7147066087308921,
           0.28892624189395105
          ],
          [
           -0.15010453073778532,
           -0.16391556693624693,
           0.29345798463214434,
           0.7760919989095499,
           0.43892208120072,
           0.35962452685210006,
           0.49207753850013053,
           0.07898245093477523,
           0.33657928434450446,
           0.3283263649436181,
           0.6820626499649445,
           0.38680988316451304,
           0.7045454318419127,
           0.8080672686098502,
           0.04307266484622551,
           -0.30124697282839474,
           0.40406942602339824,
           0.7830476493667008,
           -0.15502723981928887,
           0.5874909098996492,
           0.7147066087308921,
           1,
           0.18084861801299107
          ],
          [
           -0.031691932802082094,
           0.04590423740988535,
           0.17645957461077544,
           0.2707159987308549,
           0.27025587002804197,
           0.09688617100539318,
           0.3505226171460092,
           0.08908705959332072,
           0.15249888554915966,
           0.21615744601544287,
           0.17217804513123366,
           0.05536494969763528,
           0.17981208406809865,
           0.20139942033697233,
           0.12247907945031891,
           0.059662614486197134,
           0.08693761431651154,
           0.12226479328356966,
           0.011749582736609067,
           0.32858755468525463,
           0.28892624189395105,
           0.18084861801299107,
           1
          ]
         ]
        }
       ],
       "layout": {
        "autosize": false,
        "height": 720,
        "margin": {
         "b": 210,
         "l": 210,
         "r": 0,
         "t": 25
        },
        "template": {
         "data": {
          "bar": [
           {
            "error_x": {
             "color": "#2a3f5f"
            },
            "error_y": {
             "color": "#2a3f5f"
            },
            "marker": {
             "line": {
              "color": "#E5ECF6",
              "width": 0.5
             }
            },
            "type": "bar"
           }
          ],
          "barpolar": [
           {
            "marker": {
             "line": {
              "color": "#E5ECF6",
              "width": 0.5
             }
            },
            "type": "barpolar"
           }
          ],
          "carpet": [
           {
            "aaxis": {
             "endlinecolor": "#2a3f5f",
             "gridcolor": "white",
             "linecolor": "white",
             "minorgridcolor": "white",
             "startlinecolor": "#2a3f5f"
            },
            "baxis": {
             "endlinecolor": "#2a3f5f",
             "gridcolor": "white",
             "linecolor": "white",
             "minorgridcolor": "white",
             "startlinecolor": "#2a3f5f"
            },
            "type": "carpet"
           }
          ],
          "choropleth": [
           {
            "colorbar": {
             "outlinewidth": 0,
             "ticks": ""
            },
            "type": "choropleth"
           }
          ],
          "contour": [
           {
            "colorbar": {
             "outlinewidth": 0,
             "ticks": ""
            },
            "colorscale": [
             [
              0,
              "#0d0887"
             ],
             [
              0.1111111111111111,
              "#46039f"
             ],
             [
              0.2222222222222222,
              "#7201a8"
             ],
             [
              0.3333333333333333,
              "#9c179e"
             ],
             [
              0.4444444444444444,
              "#bd3786"
             ],
             [
              0.5555555555555556,
              "#d8576b"
             ],
             [
              0.6666666666666666,
              "#ed7953"
             ],
             [
              0.7777777777777778,
              "#fb9f3a"
             ],
             [
              0.8888888888888888,
              "#fdca26"
             ],
             [
              1,
              "#f0f921"
             ]
            ],
            "type": "contour"
           }
          ],
          "contourcarpet": [
           {
            "colorbar": {
             "outlinewidth": 0,
             "ticks": ""
            },
            "type": "contourcarpet"
           }
          ],
          "heatmap": [
           {
            "colorbar": {
             "outlinewidth": 0,
             "ticks": ""
            },
            "colorscale": [
             [
              0,
              "#0d0887"
             ],
             [
              0.1111111111111111,
              "#46039f"
             ],
             [
              0.2222222222222222,
              "#7201a8"
             ],
             [
              0.3333333333333333,
              "#9c179e"
             ],
             [
              0.4444444444444444,
              "#bd3786"
             ],
             [
              0.5555555555555556,
              "#d8576b"
             ],
             [
              0.6666666666666666,
              "#ed7953"
             ],
             [
              0.7777777777777778,
              "#fb9f3a"
             ],
             [
              0.8888888888888888,
              "#fdca26"
             ],
             [
              1,
              "#f0f921"
             ]
            ],
            "type": "heatmap"
           }
          ],
          "heatmapgl": [
           {
            "colorbar": {
             "outlinewidth": 0,
             "ticks": ""
            },
            "colorscale": [
             [
              0,
              "#0d0887"
             ],
             [
              0.1111111111111111,
              "#46039f"
             ],
             [
              0.2222222222222222,
              "#7201a8"
             ],
             [
              0.3333333333333333,
              "#9c179e"
             ],
             [
              0.4444444444444444,
              "#bd3786"
             ],
             [
              0.5555555555555556,
              "#d8576b"
             ],
             [
              0.6666666666666666,
              "#ed7953"
             ],
             [
              0.7777777777777778,
              "#fb9f3a"
             ],
             [
              0.8888888888888888,
              "#fdca26"
             ],
             [
              1,
              "#f0f921"
             ]
            ],
            "type": "heatmapgl"
           }
          ],
          "histogram": [
           {
            "marker": {
             "colorbar": {
              "outlinewidth": 0,
              "ticks": ""
             }
            },
            "type": "histogram"
           }
          ],
          "histogram2d": [
           {
            "colorbar": {
             "outlinewidth": 0,
             "ticks": ""
            },
            "colorscale": [
             [
              0,
              "#0d0887"
             ],
             [
              0.1111111111111111,
              "#46039f"
             ],
             [
              0.2222222222222222,
              "#7201a8"
             ],
             [
              0.3333333333333333,
              "#9c179e"
             ],
             [
              0.4444444444444444,
              "#bd3786"
             ],
             [
              0.5555555555555556,
              "#d8576b"
             ],
             [
              0.6666666666666666,
              "#ed7953"
             ],
             [
              0.7777777777777778,
              "#fb9f3a"
             ],
             [
              0.8888888888888888,
              "#fdca26"
             ],
             [
              1,
              "#f0f921"
             ]
            ],
            "type": "histogram2d"
           }
          ],
          "histogram2dcontour": [
           {
            "colorbar": {
             "outlinewidth": 0,
             "ticks": ""
            },
            "colorscale": [
             [
              0,
              "#0d0887"
             ],
             [
              0.1111111111111111,
              "#46039f"
             ],
             [
              0.2222222222222222,
              "#7201a8"
             ],
             [
              0.3333333333333333,
              "#9c179e"
             ],
             [
              0.4444444444444444,
              "#bd3786"
             ],
             [
              0.5555555555555556,
              "#d8576b"
             ],
             [
              0.6666666666666666,
              "#ed7953"
             ],
             [
              0.7777777777777778,
              "#fb9f3a"
             ],
             [
              0.8888888888888888,
              "#fdca26"
             ],
             [
              1,
              "#f0f921"
             ]
            ],
            "type": "histogram2dcontour"
           }
          ],
          "mesh3d": [
           {
            "colorbar": {
             "outlinewidth": 0,
             "ticks": ""
            },
            "type": "mesh3d"
           }
          ],
          "parcoords": [
           {
            "line": {
             "colorbar": {
              "outlinewidth": 0,
              "ticks": ""
             }
            },
            "type": "parcoords"
           }
          ],
          "pie": [
           {
            "automargin": true,
            "type": "pie"
           }
          ],
          "scatter": [
           {
            "marker": {
             "colorbar": {
              "outlinewidth": 0,
              "ticks": ""
             }
            },
            "type": "scatter"
           }
          ],
          "scatter3d": [
           {
            "line": {
             "colorbar": {
              "outlinewidth": 0,
              "ticks": ""
             }
            },
            "marker": {
             "colorbar": {
              "outlinewidth": 0,
              "ticks": ""
             }
            },
            "type": "scatter3d"
           }
          ],
          "scattercarpet": [
           {
            "marker": {
             "colorbar": {
              "outlinewidth": 0,
              "ticks": ""
             }
            },
            "type": "scattercarpet"
           }
          ],
          "scattergeo": [
           {
            "marker": {
             "colorbar": {
              "outlinewidth": 0,
              "ticks": ""
             }
            },
            "type": "scattergeo"
           }
          ],
          "scattergl": [
           {
            "marker": {
             "colorbar": {
              "outlinewidth": 0,
              "ticks": ""
             }
            },
            "type": "scattergl"
           }
          ],
          "scattermapbox": [
           {
            "marker": {
             "colorbar": {
              "outlinewidth": 0,
              "ticks": ""
             }
            },
            "type": "scattermapbox"
           }
          ],
          "scatterpolar": [
           {
            "marker": {
             "colorbar": {
              "outlinewidth": 0,
              "ticks": ""
             }
            },
            "type": "scatterpolar"
           }
          ],
          "scatterpolargl": [
           {
            "marker": {
             "colorbar": {
              "outlinewidth": 0,
              "ticks": ""
             }
            },
            "type": "scatterpolargl"
           }
          ],
          "scatterternary": [
           {
            "marker": {
             "colorbar": {
              "outlinewidth": 0,
              "ticks": ""
             }
            },
            "type": "scatterternary"
           }
          ],
          "surface": [
           {
            "colorbar": {
             "outlinewidth": 0,
             "ticks": ""
            },
            "colorscale": [
             [
              0,
              "#0d0887"
             ],
             [
              0.1111111111111111,
              "#46039f"
             ],
             [
              0.2222222222222222,
              "#7201a8"
             ],
             [
              0.3333333333333333,
              "#9c179e"
             ],
             [
              0.4444444444444444,
              "#bd3786"
             ],
             [
              0.5555555555555556,
              "#d8576b"
             ],
             [
              0.6666666666666666,
              "#ed7953"
             ],
             [
              0.7777777777777778,
              "#fb9f3a"
             ],
             [
              0.8888888888888888,
              "#fdca26"
             ],
             [
              1,
              "#f0f921"
             ]
            ],
            "type": "surface"
           }
          ],
          "table": [
           {
            "cells": {
             "fill": {
              "color": "#EBF0F8"
             },
             "line": {
              "color": "white"
             }
            },
            "header": {
             "fill": {
              "color": "#C8D4E3"
             },
             "line": {
              "color": "white"
             }
            },
            "type": "table"
           }
          ]
         },
         "layout": {
          "annotationdefaults": {
           "arrowcolor": "#2a3f5f",
           "arrowhead": 0,
           "arrowwidth": 1
          },
          "coloraxis": {
           "colorbar": {
            "outlinewidth": 0,
            "ticks": ""
           }
          },
          "colorscale": {
           "diverging": [
            [
             0,
             "#8e0152"
            ],
            [
             0.1,
             "#c51b7d"
            ],
            [
             0.2,
             "#de77ae"
            ],
            [
             0.3,
             "#f1b6da"
            ],
            [
             0.4,
             "#fde0ef"
            ],
            [
             0.5,
             "#f7f7f7"
            ],
            [
             0.6,
             "#e6f5d0"
            ],
            [
             0.7,
             "#b8e186"
            ],
            [
             0.8,
             "#7fbc41"
            ],
            [
             0.9,
             "#4d9221"
            ],
            [
             1,
             "#276419"
            ]
           ],
           "sequential": [
            [
             0,
             "#0d0887"
            ],
            [
             0.1111111111111111,
             "#46039f"
            ],
            [
             0.2222222222222222,
             "#7201a8"
            ],
            [
             0.3333333333333333,
             "#9c179e"
            ],
            [
             0.4444444444444444,
             "#bd3786"
            ],
            [
             0.5555555555555556,
             "#d8576b"
            ],
            [
             0.6666666666666666,
             "#ed7953"
            ],
            [
             0.7777777777777778,
             "#fb9f3a"
            ],
            [
             0.8888888888888888,
             "#fdca26"
            ],
            [
             1,
             "#f0f921"
            ]
           ],
           "sequentialminus": [
            [
             0,
             "#0d0887"
            ],
            [
             0.1111111111111111,
             "#46039f"
            ],
            [
             0.2222222222222222,
             "#7201a8"
            ],
            [
             0.3333333333333333,
             "#9c179e"
            ],
            [
             0.4444444444444444,
             "#bd3786"
            ],
            [
             0.5555555555555556,
             "#d8576b"
            ],
            [
             0.6666666666666666,
             "#ed7953"
            ],
            [
             0.7777777777777778,
             "#fb9f3a"
            ],
            [
             0.8888888888888888,
             "#fdca26"
            ],
            [
             1,
             "#f0f921"
            ]
           ]
          },
          "colorway": [
           "#636efa",
           "#EF553B",
           "#00cc96",
           "#ab63fa",
           "#FFA15A",
           "#19d3f3",
           "#FF6692",
           "#B6E880",
           "#FF97FF",
           "#FECB52"
          ],
          "font": {
           "color": "#2a3f5f"
          },
          "geo": {
           "bgcolor": "white",
           "lakecolor": "white",
           "landcolor": "#E5ECF6",
           "showlakes": true,
           "showland": true,
           "subunitcolor": "white"
          },
          "hoverlabel": {
           "align": "left"
          },
          "hovermode": "closest",
          "mapbox": {
           "style": "light"
          },
          "paper_bgcolor": "white",
          "plot_bgcolor": "#E5ECF6",
          "polar": {
           "angularaxis": {
            "gridcolor": "white",
            "linecolor": "white",
            "ticks": ""
           },
           "bgcolor": "#E5ECF6",
           "radialaxis": {
            "gridcolor": "white",
            "linecolor": "white",
            "ticks": ""
           }
          },
          "scene": {
           "xaxis": {
            "backgroundcolor": "#E5ECF6",
            "gridcolor": "white",
            "gridwidth": 2,
            "linecolor": "white",
            "showbackground": true,
            "ticks": "",
            "zerolinecolor": "white"
           },
           "yaxis": {
            "backgroundcolor": "#E5ECF6",
            "gridcolor": "white",
            "gridwidth": 2,
            "linecolor": "white",
            "showbackground": true,
            "ticks": "",
            "zerolinecolor": "white"
           },
           "zaxis": {
            "backgroundcolor": "#E5ECF6",
            "gridcolor": "white",
            "gridwidth": 2,
            "linecolor": "white",
            "showbackground": true,
            "ticks": "",
            "zerolinecolor": "white"
           }
          },
          "shapedefaults": {
           "line": {
            "color": "#2a3f5f"
           }
          },
          "ternary": {
           "aaxis": {
            "gridcolor": "white",
            "linecolor": "white",
            "ticks": ""
           },
           "baxis": {
            "gridcolor": "white",
            "linecolor": "white",
            "ticks": ""
           },
           "bgcolor": "#E5ECF6",
           "caxis": {
            "gridcolor": "white",
            "linecolor": "white",
            "ticks": ""
           }
          },
          "title": {
           "x": 0.05
          },
          "xaxis": {
           "automargin": true,
           "gridcolor": "white",
           "linecolor": "white",
           "ticks": "",
           "title": {
            "standoff": 15
           },
           "zerolinecolor": "white",
           "zerolinewidth": 2
          },
          "yaxis": {
           "automargin": true,
           "gridcolor": "white",
           "linecolor": "white",
           "ticks": "",
           "title": {
            "standoff": 15
           },
           "zerolinecolor": "white",
           "zerolinewidth": 2
          }
         }
        },
        "title": {
         "text": "Correlation Matrix for variables"
        },
        "width": 800,
        "xaxis": {
         "tickfont": {
          "size": 9
         }
        },
        "yaxis": {
         "tickfont": {
          "size": 9
         }
        }
       }
      },
      "text/html": [
       "<div>\n",
       "        \n",
       "        \n",
       "            <div id=\"7d74bfef-5960-45c3-bf67-7d4f55a9c66c\" class=\"plotly-graph-div\" style=\"height:720px; width:800px;\"></div>\n",
       "            <script type=\"text/javascript\">\n",
       "                require([\"plotly\"], function(Plotly) {\n",
       "                    window.PLOTLYENV=window.PLOTLYENV || {};\n",
       "                    \n",
       "                if (document.getElementById(\"7d74bfef-5960-45c3-bf67-7d4f55a9c66c\")) {\n",
       "                    Plotly.newPlot(\n",
       "                        '7d74bfef-5960-45c3-bf67-7d4f55a9c66c',\n",
       "                        [{\"colorbar\": {\"title\": {\"side\": \"right\", \"text\": \"Pearson Correlation coefficient\"}}, \"colorscale\": [[0.0, \"#000004\"], [0.1111111111111111, \"#180f3d\"], [0.2222222222222222, \"#440f76\"], [0.3333333333333333, \"#721f81\"], [0.4444444444444444, \"#9e2f7f\"], [0.5555555555555556, \"#cd4071\"], [0.6666666666666666, \"#f1605d\"], [0.7777777777777778, \"#fd9668\"], [0.8888888888888888, \"#feca8d\"], [1.0, \"#fcfdbf\"]], \"type\": \"heatmap\", \"x\": [\"3PAr\", \"AST%\", \"BLK%\", \"BPM\", \"DBPM\", \"DRB%\", \"DWS\", \"FTr\", \"G\", \"MP\", \"OBPM\", \"ORB%\", \"OWS\", \"PER\", \"STL%\", \"TOV%\", \"TRB%\", \"TS%\", \"USG%\", \"VORP\", \"WS\", \"WS/48\", \"all_defensive\"], \"y\": [\"3PAr\", \"AST%\", \"BLK%\", \"BPM\", \"DBPM\", \"DRB%\", \"DWS\", \"FTr\", \"G\", \"MP\", \"OBPM\", \"ORB%\", \"OWS\", \"PER\", \"STL%\", \"TOV%\", \"TRB%\", \"TS%\", \"USG%\", \"VORP\", \"WS\", \"WS/48\", \"all_defensive\"], \"z\": [[1.0, 0.27967580665602904, -0.3355427810740549, 0.056725115910731656, -0.06828444317480552, -0.3811006377401149, -0.16511165623536977, -0.39934346668544574, -0.08353563966739039, -0.010130550181160825, 0.10481912450925568, -0.5948848983531473, -0.05842561781877877, -0.19812171303437803, 0.1142098564206499, -0.1051383958139119, -0.5093034588438345, -0.09960781585016426, -0.006475560644403315, 0.019759744218992337, -0.11756452619294451, -0.15010453073778532, -0.031691932802082094], [0.27967580665602904, 1.0, -0.4766603451513001, 0.20177739137113956, 0.020600074408672592, -0.5703270828950951, 0.037195417150927286, -0.2090186286077261, 0.11825066451514112, 0.19781304325586177, 0.22895403886195073, -0.6187206162990836, -0.019107368111407046, 0.056991665290557464, 0.4901922247448288, 0.41143940102503085, -0.6369201356393719, -0.18173190107782103, 0.22957480844007266, 0.22092810751436398, 0.0047720411647436695, -0.16391556693624693, 0.04590423740988535], [-0.3355427810740549, -0.4766603451513001, 1.0, 0.14810689312099598, 0.3935374598096166, 0.6126963440341626, 0.2787788214443908, 0.2322090437144562, 0.022696187674574892, 0.015512049763483773, -0.04239603704793582, 0.5201491780982859, 0.11409678470379318, 0.25866298024874, -0.2719748394179757, -0.057775748341128495, 0.620373450655507, 0.21003539327413553, -0.1778038506886326, 0.13474866082078685, 0.20918906632465692, 0.29345798463214434, 0.17645957461077544], [0.056725115910731656, 0.20177739137113956, 0.14810689312099598, 1.0, 0.5518062964942185, 0.0867515195354002, 0.591663584455771, 0.06977191504838551, 0.42745377887400887, 0.537786264364836, 0.8858824384818125, 0.03932053259023023, 0.6839132632086738, 0.7970130266709602, 0.33502561598925246, -0.2195764790610447, 0.07437297617229728, 0.6112560268904418, 0.039729119764380975, 0.7995861430810053, 0.7478041031607946, 0.7760919989095499, 0.2707159987308549], [-0.06828444317480552, 0.020600074408672592, 0.3935374598096166, 0.5518062964942185, 1.0, 0.18412278882940966, 0.5133740758657537, 0.1350968810093559, 0.17317365233199492, 0.10880620520110396, 0.10244748451946004, 0.04423415132580625, 0.14838438894688638, 0.19524145024744838, 0.4404510301405688, 0.15644783732352688, 0.14037587019736555, 0.20219480524002978, -0.3687224152030538, 0.43771305977984876, 0.3431973382876207, 0.43892208120072, 0.27025587002804197], [-0.3811006377401149, -0.5703270828950951, 0.6126963440341626, 0.0867515195354002, 0.18412278882940966, 1.0, 0.3251688197564152, 0.23825127811334026, 0.04936522776628025, 0.07485758998606108, 0.0016107051075126798, 0.7135139428305082, 0.18745748056492426, 0.3022616776756439, -0.3657105220948914, -0.0774187828856853, 0.946806886164334, 0.26839056052726207, -0.1733037600529197, 0.10622732084763334, 0.28111553321274585, 0.35962452685210006, 0.09688617100539318], [-0.16511165623536977, 0.037195417150927286, 0.2787788214443908, 0.591663584455771, 0.5133740758657537, 0.3251688197564152, 1.0, 0.11067306008996265, 0.624825552523853, 0.7340892484796979, 0.42126941983586547, 0.17494004867575294, 0.47373464369299045, 0.502360144129568, 0.14441678480128148, -0.019247615443119055, 0.28540717649225833, 0.3248589095305128, 0.07840712957602457, 0.6445695991621633, 0.7961407372142032, 0.49207753850013053, 0.3505226171460092], [-0.39934346668544574, -0.2090186286077261, 0.2322090437144562, 0.06977191504838551, 0.1350968810093559, 0.23825127811334026, 0.11067306008996265, 1.0, -0.015890881178845864, -0.01898659125346782, 0.008220477360173978, 0.35406188088928797, 0.1575492065299252, 0.06324073536058063, -0.07510928321586068, 0.11348153660844507, 0.3107216148121843, 0.17473890834010636, 0.02534386076535653, 0.08937269540721551, 0.1603284733581475, 0.07898245093477523, 0.08908705959332072], [-0.08353563966739039, 0.11825066451514112, 0.022696187674574892, 0.42745377887400887, 0.17317365233199492, 0.04936522776628025, 0.624825552523853, -0.015890881178845864, 1.0, 0.7922476128002008, 0.4141312748096218, 0.0014042196970272679, 0.36528740910091706, 0.37425864977049395, 0.06260765296996901, -0.043892776147770575, 0.03139641123266651, 0.3313018748440665, 0.028679248830202942, 0.28015276576963677, 0.5455646259677194, 0.33657928434450446, 0.15249888554915966], [-0.010130550181160825, 0.19781304325586177, 0.015512049763483773, 0.537786264364836, 0.10880620520110396, 0.07485758998606108, 0.7340892484796979, -0.01898659125346782, 0.7922476128002008, 1.0, 0.5815809347798425, -0.054406656600865196, 0.5421134931395146, 0.5019121745056474, 0.07804795843824155, -0.12446043418338987, 0.019348320725806948, 0.3207373833215268, 0.1828666232044239, 0.504882730921444, 0.7185094675511996, 0.3283263649436181, 0.21615744601544287], [0.10481912450925568, 0.22895403886195073, -0.04239603704793582, 0.8858824384818125, 0.10244748451946004, 0.0016107051075126798, 0.42126941983586547, 0.008220477360173978, 0.4141312748096218, 0.5815809347798425, 1.0, 0.023320025304592137, 0.7336258652875626, 0.8424590516610649, 0.15461409498656115, -0.3474988999953571, 0.01146344708447347, 0.61722247802017, 0.2526126790096926, 0.7106703623788394, 0.7018710327805406, 0.6820626499649445, 0.17217804513123366], [-0.5948848983531473, -0.6187206162990836, 0.5201491780982859, 0.03932053259023023, 0.04423415132580625, 0.7135139428305082, 0.17494004867575294, 0.35406188088928797, 0.0014042196970272679, -0.054406656600865196, 0.023320025304592137, 1.0, 0.21673552218722078, 0.3312892304177989, -0.2640450399579164, -0.10782257796089295, 0.9002847240201, 0.24965845040998821, -0.08255742413964186, 0.05610560572070401, 0.23090599998093558, 0.38680988316451304, 0.05536494969763528], [-0.05842561781877877, -0.019107368111407046, 0.11409678470379318, 0.6839132632086738, 0.14838438894688638, 0.18745748056492426, 0.47373464369299045, 0.1575492065299252, 0.36528740910091706, 0.5421134931395146, 0.7336258652875626, 0.21673552218722078, 1.0, 0.7022679921451145, -0.01287190933622219, -0.3069127881261747, 0.21713937467125088, 0.615041026887284, 0.06037133476114774, 0.7815803810654475, 0.9095950407945474, 0.7045454318419127, 0.17981208406809865], [-0.19812171303437803, 0.056991665290557464, 0.25866298024874, 0.7970130266709602, 0.19524145024744838, 0.3022616776756439, 0.502360144129568, 0.06324073536058063, 0.37425864977049395, 0.5019121745056474, 0.8424590516610649, 0.3312892304177989, 0.7022679921451145, 1.0, 0.13951150887160033, -0.2777893292294929, 0.33892962661856096, 0.6928894998919041, 0.3177289169666667, 0.6660615072165427, 0.718221286003678, 0.8080672686098502, 0.20139942033697233], [0.1142098564206499, 0.4901922247448288, -0.2719748394179757, 0.33502561598925246, 0.4404510301405688, -0.3657105220948914, 0.14441678480128148, -0.07510928321586068, 0.06260765296996901, 0.07804795843824155, 0.15461409498656115, -0.2640450399579164, -0.01287190933622219, 0.13951150887160033, 1.0, 0.21978595313315674, -0.34816078210908136, -0.11915658224918718, 0.05132328597725379, 0.28318112444633203, 0.059177669149190086, 0.04307266484622551, 0.12247907945031891], [-0.1051383958139119, 0.41143940102503085, -0.057775748341128495, -0.2195764790610447, 0.15644783732352688, -0.0774187828856853, -0.019247615443119055, 0.11348153660844507, -0.043892776147770575, -0.12446043418338987, -0.3474988999953571, -0.10782257796089295, -0.3069127881261747, -0.2777893292294929, 0.21978595313315674, 1.0, -0.09486919683816909, -0.09523026802404043, -0.14272856909708295, -0.11542956680392565, -0.21893501542145, -0.30124697282839474, 0.059662614486197134], [-0.5093034588438345, -0.6369201356393719, 0.620373450655507, 0.07437297617229728, 0.14037587019736555, 0.946806886164334, 0.28540717649225833, 0.3107216148121843, 0.03139641123266651, 0.019348320725806948, 0.01146344708447347, 0.9002847240201, 0.21713937467125088, 0.33892962661856096, -0.34816078210908136, -0.09486919683816909, 1.0, 0.2842794108576261, -0.1463505327336719, 0.09479176878147137, 0.28300858202248097, 0.40406942602339824, 0.08693761431651154], [-0.09960781585016426, -0.18173190107782103, 0.21003539327413553, 0.6112560268904418, 0.20219480524002978, 0.26839056052726207, 0.3248589095305128, 0.17473890834010636, 0.3313018748440665, 0.3207373833215268, 0.61722247802017, 0.24965845040998821, 0.615041026887284, 0.6928894998919041, -0.11915658224918718, -0.09523026802404043, 0.2842794108576261, 1.0, -0.0582863315174142, 0.4257879558247983, 0.5747796338870581, 0.7830476493667008, 0.12226479328356966], [-0.006475560644403315, 0.22957480844007266, -0.1778038506886326, 0.039729119764380975, -0.3687224152030538, -0.1733037600529197, 0.07840712957602457, 0.02534386076535653, 0.028679248830202942, 0.1828666232044239, 0.2526126790096926, -0.08255742413964186, 0.06037133476114774, 0.3177289169666667, 0.05132328597725379, -0.14272856909708295, -0.1463505327336719, -0.0582863315174142, 1.0, 0.16588444044954376, 0.07869025603117616, -0.15502723981928887, 0.011749582736609067], [0.019759744218992337, 0.22092810751436398, 0.13474866082078685, 0.7995861430810053, 0.43771305977984876, 0.10622732084763334, 0.6445695991621633, 0.08937269540721551, 0.28015276576963677, 0.504882730921444, 0.7106703623788394, 0.05610560572070401, 0.7815803810654475, 0.6660615072165427, 0.28318112444633203, -0.11542956680392565, 0.09479176878147137, 0.4257879558247983, 0.16588444044954376, 1.0, 0.8404645379287912, 0.5874909098996492, 0.32858755468525463], [-0.11756452619294451, 0.0047720411647436695, 0.20918906632465692, 0.7478041031607946, 0.3431973382876207, 0.28111553321274585, 0.7961407372142032, 0.1603284733581475, 0.5455646259677194, 0.7185094675511996, 0.7018710327805406, 0.23090599998093558, 0.9095950407945474, 0.718221286003678, 0.059177669149190086, -0.21893501542145, 0.28300858202248097, 0.5747796338870581, 0.07869025603117616, 0.8404645379287912, 1.0, 0.7147066087308921, 0.28892624189395105], [-0.15010453073778532, -0.16391556693624693, 0.29345798463214434, 0.7760919989095499, 0.43892208120072, 0.35962452685210006, 0.49207753850013053, 0.07898245093477523, 0.33657928434450446, 0.3283263649436181, 0.6820626499649445, 0.38680988316451304, 0.7045454318419127, 0.8080672686098502, 0.04307266484622551, -0.30124697282839474, 0.40406942602339824, 0.7830476493667008, -0.15502723981928887, 0.5874909098996492, 0.7147066087308921, 1.0, 0.18084861801299107], [-0.031691932802082094, 0.04590423740988535, 0.17645957461077544, 0.2707159987308549, 0.27025587002804197, 0.09688617100539318, 0.3505226171460092, 0.08908705959332072, 0.15249888554915966, 0.21615744601544287, 0.17217804513123366, 0.05536494969763528, 0.17981208406809865, 0.20139942033697233, 0.12247907945031891, 0.059662614486197134, 0.08693761431651154, 0.12226479328356966, 0.011749582736609067, 0.32858755468525463, 0.28892624189395105, 0.18084861801299107, 1.0]]}],\n",
       "                        {\"autosize\": false, \"height\": 720, \"margin\": {\"b\": 210, \"l\": 210, \"r\": 0, \"t\": 25}, \"template\": {\"data\": {\"bar\": [{\"error_x\": {\"color\": \"#2a3f5f\"}, \"error_y\": {\"color\": \"#2a3f5f\"}, \"marker\": {\"line\": {\"color\": \"#E5ECF6\", \"width\": 0.5}}, \"type\": \"bar\"}], \"barpolar\": [{\"marker\": {\"line\": {\"color\": \"#E5ECF6\", \"width\": 0.5}}, \"type\": \"barpolar\"}], \"carpet\": [{\"aaxis\": {\"endlinecolor\": \"#2a3f5f\", \"gridcolor\": \"white\", \"linecolor\": \"white\", \"minorgridcolor\": \"white\", \"startlinecolor\": \"#2a3f5f\"}, \"baxis\": {\"endlinecolor\": \"#2a3f5f\", \"gridcolor\": \"white\", \"linecolor\": \"white\", \"minorgridcolor\": \"white\", \"startlinecolor\": \"#2a3f5f\"}, \"type\": \"carpet\"}], \"choropleth\": [{\"colorbar\": {\"outlinewidth\": 0, \"ticks\": \"\"}, \"type\": \"choropleth\"}], \"contour\": [{\"colorbar\": {\"outlinewidth\": 0, \"ticks\": \"\"}, \"colorscale\": [[0.0, \"#0d0887\"], [0.1111111111111111, \"#46039f\"], [0.2222222222222222, \"#7201a8\"], [0.3333333333333333, \"#9c179e\"], [0.4444444444444444, \"#bd3786\"], [0.5555555555555556, \"#d8576b\"], [0.6666666666666666, \"#ed7953\"], [0.7777777777777778, \"#fb9f3a\"], [0.8888888888888888, \"#fdca26\"], [1.0, \"#f0f921\"]], \"type\": \"contour\"}], \"contourcarpet\": [{\"colorbar\": {\"outlinewidth\": 0, \"ticks\": \"\"}, \"type\": \"contourcarpet\"}], \"heatmap\": [{\"colorbar\": {\"outlinewidth\": 0, \"ticks\": \"\"}, \"colorscale\": [[0.0, \"#0d0887\"], [0.1111111111111111, \"#46039f\"], [0.2222222222222222, \"#7201a8\"], [0.3333333333333333, \"#9c179e\"], [0.4444444444444444, \"#bd3786\"], [0.5555555555555556, \"#d8576b\"], [0.6666666666666666, \"#ed7953\"], [0.7777777777777778, \"#fb9f3a\"], [0.8888888888888888, \"#fdca26\"], [1.0, \"#f0f921\"]], \"type\": \"heatmap\"}], \"heatmapgl\": [{\"colorbar\": {\"outlinewidth\": 0, \"ticks\": \"\"}, \"colorscale\": [[0.0, \"#0d0887\"], [0.1111111111111111, \"#46039f\"], [0.2222222222222222, \"#7201a8\"], [0.3333333333333333, \"#9c179e\"], [0.4444444444444444, \"#bd3786\"], [0.5555555555555556, \"#d8576b\"], [0.6666666666666666, \"#ed7953\"], [0.7777777777777778, \"#fb9f3a\"], [0.8888888888888888, \"#fdca26\"], [1.0, \"#f0f921\"]], \"type\": \"heatmapgl\"}], \"histogram\": [{\"marker\": {\"colorbar\": {\"outlinewidth\": 0, \"ticks\": \"\"}}, \"type\": \"histogram\"}], \"histogram2d\": [{\"colorbar\": {\"outlinewidth\": 0, \"ticks\": \"\"}, \"colorscale\": [[0.0, \"#0d0887\"], [0.1111111111111111, \"#46039f\"], [0.2222222222222222, \"#7201a8\"], [0.3333333333333333, \"#9c179e\"], [0.4444444444444444, \"#bd3786\"], [0.5555555555555556, \"#d8576b\"], [0.6666666666666666, \"#ed7953\"], [0.7777777777777778, \"#fb9f3a\"], [0.8888888888888888, \"#fdca26\"], [1.0, \"#f0f921\"]], \"type\": \"histogram2d\"}], \"histogram2dcontour\": [{\"colorbar\": {\"outlinewidth\": 0, \"ticks\": \"\"}, \"colorscale\": [[0.0, \"#0d0887\"], [0.1111111111111111, \"#46039f\"], [0.2222222222222222, \"#7201a8\"], [0.3333333333333333, \"#9c179e\"], [0.4444444444444444, \"#bd3786\"], [0.5555555555555556, \"#d8576b\"], [0.6666666666666666, \"#ed7953\"], [0.7777777777777778, \"#fb9f3a\"], [0.8888888888888888, \"#fdca26\"], [1.0, \"#f0f921\"]], \"type\": \"histogram2dcontour\"}], \"mesh3d\": [{\"colorbar\": {\"outlinewidth\": 0, \"ticks\": \"\"}, \"type\": \"mesh3d\"}], \"parcoords\": [{\"line\": {\"colorbar\": {\"outlinewidth\": 0, \"ticks\": \"\"}}, \"type\": \"parcoords\"}], \"pie\": [{\"automargin\": true, \"type\": \"pie\"}], \"scatter\": [{\"marker\": {\"colorbar\": {\"outlinewidth\": 0, \"ticks\": \"\"}}, \"type\": \"scatter\"}], \"scatter3d\": [{\"line\": {\"colorbar\": {\"outlinewidth\": 0, \"ticks\": \"\"}}, \"marker\": {\"colorbar\": {\"outlinewidth\": 0, \"ticks\": \"\"}}, \"type\": \"scatter3d\"}], \"scattercarpet\": [{\"marker\": {\"colorbar\": {\"outlinewidth\": 0, \"ticks\": \"\"}}, \"type\": \"scattercarpet\"}], \"scattergeo\": [{\"marker\": {\"colorbar\": {\"outlinewidth\": 0, \"ticks\": \"\"}}, \"type\": \"scattergeo\"}], \"scattergl\": [{\"marker\": {\"colorbar\": {\"outlinewidth\": 0, \"ticks\": \"\"}}, \"type\": \"scattergl\"}], \"scattermapbox\": [{\"marker\": {\"colorbar\": {\"outlinewidth\": 0, \"ticks\": \"\"}}, \"type\": \"scattermapbox\"}], \"scatterpolar\": [{\"marker\": {\"colorbar\": {\"outlinewidth\": 0, \"ticks\": \"\"}}, \"type\": \"scatterpolar\"}], \"scatterpolargl\": [{\"marker\": {\"colorbar\": {\"outlinewidth\": 0, \"ticks\": \"\"}}, \"type\": \"scatterpolargl\"}], \"scatterternary\": [{\"marker\": {\"colorbar\": {\"outlinewidth\": 0, \"ticks\": \"\"}}, \"type\": \"scatterternary\"}], \"surface\": [{\"colorbar\": {\"outlinewidth\": 0, \"ticks\": \"\"}, \"colorscale\": [[0.0, \"#0d0887\"], [0.1111111111111111, \"#46039f\"], [0.2222222222222222, \"#7201a8\"], [0.3333333333333333, \"#9c179e\"], [0.4444444444444444, \"#bd3786\"], [0.5555555555555556, \"#d8576b\"], [0.6666666666666666, \"#ed7953\"], [0.7777777777777778, \"#fb9f3a\"], [0.8888888888888888, \"#fdca26\"], [1.0, \"#f0f921\"]], \"type\": \"surface\"}], \"table\": [{\"cells\": {\"fill\": {\"color\": \"#EBF0F8\"}, \"line\": {\"color\": \"white\"}}, \"header\": {\"fill\": {\"color\": \"#C8D4E3\"}, \"line\": {\"color\": \"white\"}}, \"type\": \"table\"}]}, \"layout\": {\"annotationdefaults\": {\"arrowcolor\": \"#2a3f5f\", \"arrowhead\": 0, \"arrowwidth\": 1}, \"coloraxis\": {\"colorbar\": {\"outlinewidth\": 0, \"ticks\": \"\"}}, \"colorscale\": {\"diverging\": [[0, \"#8e0152\"], [0.1, \"#c51b7d\"], [0.2, \"#de77ae\"], [0.3, \"#f1b6da\"], [0.4, \"#fde0ef\"], [0.5, \"#f7f7f7\"], [0.6, \"#e6f5d0\"], [0.7, \"#b8e186\"], [0.8, \"#7fbc41\"], [0.9, \"#4d9221\"], [1, \"#276419\"]], \"sequential\": [[0.0, \"#0d0887\"], [0.1111111111111111, \"#46039f\"], [0.2222222222222222, \"#7201a8\"], [0.3333333333333333, \"#9c179e\"], [0.4444444444444444, \"#bd3786\"], [0.5555555555555556, \"#d8576b\"], [0.6666666666666666, \"#ed7953\"], [0.7777777777777778, \"#fb9f3a\"], [0.8888888888888888, \"#fdca26\"], [1.0, \"#f0f921\"]], \"sequentialminus\": [[0.0, \"#0d0887\"], [0.1111111111111111, \"#46039f\"], [0.2222222222222222, \"#7201a8\"], [0.3333333333333333, \"#9c179e\"], [0.4444444444444444, \"#bd3786\"], [0.5555555555555556, \"#d8576b\"], [0.6666666666666666, \"#ed7953\"], [0.7777777777777778, \"#fb9f3a\"], [0.8888888888888888, \"#fdca26\"], [1.0, \"#f0f921\"]]}, \"colorway\": [\"#636efa\", \"#EF553B\", \"#00cc96\", \"#ab63fa\", \"#FFA15A\", \"#19d3f3\", \"#FF6692\", \"#B6E880\", \"#FF97FF\", \"#FECB52\"], \"font\": {\"color\": \"#2a3f5f\"}, \"geo\": {\"bgcolor\": \"white\", \"lakecolor\": \"white\", \"landcolor\": \"#E5ECF6\", \"showlakes\": true, \"showland\": true, \"subunitcolor\": \"white\"}, \"hoverlabel\": {\"align\": \"left\"}, \"hovermode\": \"closest\", \"mapbox\": {\"style\": \"light\"}, \"paper_bgcolor\": \"white\", \"plot_bgcolor\": \"#E5ECF6\", \"polar\": {\"angularaxis\": {\"gridcolor\": \"white\", \"linecolor\": \"white\", \"ticks\": \"\"}, \"bgcolor\": \"#E5ECF6\", \"radialaxis\": {\"gridcolor\": \"white\", \"linecolor\": \"white\", \"ticks\": \"\"}}, \"scene\": {\"xaxis\": {\"backgroundcolor\": \"#E5ECF6\", \"gridcolor\": \"white\", \"gridwidth\": 2, \"linecolor\": \"white\", \"showbackground\": true, \"ticks\": \"\", \"zerolinecolor\": \"white\"}, \"yaxis\": {\"backgroundcolor\": \"#E5ECF6\", \"gridcolor\": \"white\", \"gridwidth\": 2, \"linecolor\": \"white\", \"showbackground\": true, \"ticks\": \"\", \"zerolinecolor\": \"white\"}, \"zaxis\": {\"backgroundcolor\": \"#E5ECF6\", \"gridcolor\": \"white\", \"gridwidth\": 2, \"linecolor\": \"white\", \"showbackground\": true, \"ticks\": \"\", \"zerolinecolor\": \"white\"}}, \"shapedefaults\": {\"line\": {\"color\": \"#2a3f5f\"}}, \"ternary\": {\"aaxis\": {\"gridcolor\": \"white\", \"linecolor\": \"white\", \"ticks\": \"\"}, \"baxis\": {\"gridcolor\": \"white\", \"linecolor\": \"white\", \"ticks\": \"\"}, \"bgcolor\": \"#E5ECF6\", \"caxis\": {\"gridcolor\": \"white\", \"linecolor\": \"white\", \"ticks\": \"\"}}, \"title\": {\"x\": 0.05}, \"xaxis\": {\"automargin\": true, \"gridcolor\": \"white\", \"linecolor\": \"white\", \"ticks\": \"\", \"title\": {\"standoff\": 15}, \"zerolinecolor\": \"white\", \"zerolinewidth\": 2}, \"yaxis\": {\"automargin\": true, \"gridcolor\": \"white\", \"linecolor\": \"white\", \"ticks\": \"\", \"title\": {\"standoff\": 15}, \"zerolinecolor\": \"white\", \"zerolinewidth\": 2}}}, \"title\": {\"text\": \"Correlation Matrix for variables\"}, \"width\": 800, \"xaxis\": {\"tickfont\": {\"size\": 9}}, \"yaxis\": {\"tickfont\": {\"size\": 9}}},\n",
       "                        {\"responsive\": true}\n",
       "                    ).then(function(){\n",
       "                            \n",
       "var gd = document.getElementById('7d74bfef-5960-45c3-bf67-7d4f55a9c66c');\n",
       "var x = new MutationObserver(function (mutations, observer) {{\n",
       "        var display = window.getComputedStyle(gd).display;\n",
       "        if (!display || display === 'none') {{\n",
       "            console.log([gd, 'removed!']);\n",
       "            Plotly.purge(gd);\n",
       "            observer.disconnect();\n",
       "        }}\n",
       "}});\n",
       "\n",
       "// Listen for the removal of the full notebook cells\n",
       "var notebookContainer = gd.closest('#notebook-container');\n",
       "if (notebookContainer) {{\n",
       "    x.observe(notebookContainer, {childList: true});\n",
       "}}\n",
       "\n",
       "// Listen for the clearing of the current output cell\n",
       "var outputEl = gd.closest('.output');\n",
       "if (outputEl) {{\n",
       "    x.observe(outputEl, {childList: true});\n",
       "}}\n",
       "\n",
       "                        })\n",
       "                };\n",
       "                });\n",
       "            </script>\n",
       "        </div>"
      ]
     },
     "metadata": {},
     "output_type": "display_data"
    }
   ],
   "source": [
    "#correlation\n",
    "correlation = train_df.corr()\n",
    "#tick labels\n",
    "matrix_cols = correlation.columns.tolist()\n",
    "#convert to array\n",
    "corr_array  = np.array(correlation)\n",
    "#Plotting\n",
    "trace = go.Heatmap(z = corr_array,\n",
    "                   x = matrix_cols,\n",
    "                   y = matrix_cols,\n",
    "                   colorscale = \"Magma\",\n",
    "                   colorbar   = dict(title = \"Pearson Correlation coefficient\",\n",
    "                                     titleside = \"right\"\n",
    "                                    ) ,\n",
    "                  )\n",
    "layout = go.Layout(dict(title = \"Correlation Matrix for variables\",\n",
    "                        autosize = False,\n",
    "                        height  = 720,\n",
    "                        width   = 800,\n",
    "                        margin  = dict(r = 0 ,l = 210,\n",
    "                                       t = 25,b = 210,\n",
    "                                      ),\n",
    "                        yaxis   = dict(tickfont = dict(size = 9)),\n",
    "                        xaxis   = dict(tickfont = dict(size = 9))\n",
    "                       )\n",
    "                  )\n",
    "data = [trace]\n",
    "fig = go.Figure(data=data,layout=layout)\n",
    "fig"
   ]
  },
  {
   "cell_type": "code",
   "execution_count": 8,
   "metadata": {},
   "outputs": [
    {
     "data": {
      "text/plain": [
       "all_defensive    1.000000\n",
       "DWS              0.350523\n",
       "VORP             0.328588\n",
       "WS               0.288926\n",
       "BPM              0.270716\n",
       "DBPM             0.270256\n",
       "MP               0.216157\n",
       "PER              0.201399\n",
       "WS/48            0.180849\n",
       "OWS              0.179812\n",
       "BLK%             0.176460\n",
       "OBPM             0.172178\n",
       "G                0.152499\n",
       "STL%             0.122479\n",
       "TS%              0.122265\n",
       "DRB%             0.096886\n",
       "FTr              0.089087\n",
       "TRB%             0.086938\n",
       "TOV%             0.059663\n",
       "ORB%             0.055365\n",
       "AST%             0.045904\n",
       "USG%             0.011750\n",
       "3PAr            -0.031692\n",
       "Name: all_defensive, dtype: float64"
      ]
     },
     "execution_count": 8,
     "metadata": {},
     "output_type": "execute_result"
    }
   ],
   "source": [
    "corrMatrix = train_df.corr()\n",
    "corrMatrix = corrMatrix.iloc[len(corrMatrix)-1]\n",
    "corrMatrix.sort_values(ascending=False)"
   ]
  },
  {
   "cell_type": "code",
   "execution_count": 74,
   "metadata": {},
   "outputs": [
    {
     "name": "stdout",
     "output_type": "stream",
     "text": [
      "Accuracy: 0.9495192307692307\n"
     ]
    }
   ],
   "source": [
    "rf = RandomForestClassifier(n_estimators=300, max_depth=3)\n",
    "X = train_df.copy().dropna()\n",
    "Y = X['all_defensive']\n",
    "X.drop(['all_defensive'], axis=1, inplace=True)\n",
    "X_train, X_test, y_train, y_test = train_test_split(X, Y, test_size=0.3, random_state=42)\n",
    "\n",
    "rf.fit(X_train, y_train)\n",
    "\n",
    "y_pred = rf.predict(X_test)\n",
    "\n",
    "print(\"Accuracy:\", metrics.accuracy_score(y_test, y_pred))"
   ]
  },
  {
   "cell_type": "code",
   "execution_count": 75,
   "metadata": {},
   "outputs": [
    {
     "data": {
      "text/plain": [
       "array([[394,   0],\n",
       "       [ 21,   1]], dtype=int64)"
      ]
     },
     "execution_count": 75,
     "metadata": {},
     "output_type": "execute_result"
    }
   ],
   "source": [
    "metrics.confusion_matrix(y_test, y_pred)"
   ]
  },
  {
   "cell_type": "markdown",
   "metadata": {},
   "source": [
    "Data heavily imbalanced leading to a lot of false negatives. The training dataframe needs to be resampled. "
   ]
  },
  {
   "cell_type": "code",
   "execution_count": 233,
   "metadata": {},
   "outputs": [],
   "source": [
    "example_player_df = get_stats('Ben Simmons', stat_type='ADVANCED', playoffs=False, career=False)[0:1].drop(['TEAM', 'AGE', 'SEASON', 'LEAGUE', 'POS'], axis=1)\n",
    "# rf.predict(example_player_df)"
   ]
  },
  {
   "cell_type": "code",
   "execution_count": 43,
   "metadata": {},
   "outputs": [],
   "source": [
    "example_player_df = get_stats('Luka Dončić', stat_type='ADVANCED', playoffs=False, career=False)[0:1].drop(['TEAM', 'AGE', 'SEASON', 'LEAGUE', 'POS'], axis=1)\n",
    "#rf.predict(example_player_df)"
   ]
  },
  {
   "cell_type": "markdown",
   "metadata": {},
   "source": [
    "## Resampling"
   ]
  },
  {
   "cell_type": "code",
   "execution_count": 76,
   "metadata": {},
   "outputs": [
    {
     "data": {
      "text/plain": [
       "0    1331\n",
       "1      91\n",
       "Name: all_defensive, dtype: int64"
      ]
     },
     "execution_count": 76,
     "metadata": {},
     "output_type": "execute_result"
    }
   ],
   "source": [
    "train_df['all_defensive'].value_counts()"
   ]
  },
  {
   "cell_type": "code",
   "execution_count": 157,
   "metadata": {},
   "outputs": [
    {
     "data": {
      "text/plain": [
       "0    120\n",
       "1     91\n",
       "Name: all_defensive, dtype: int64"
      ]
     },
     "execution_count": 157,
     "metadata": {},
     "output_type": "execute_result"
    }
   ],
   "source": [
    "all_defense = train_df[train_df['all_defensive'] == 1]\n",
    "not_all_defense = train_df[train_df['all_defensive'] == 0]\n",
    "\n",
    "not_all_defense_downsampled = resample(not_all_defense, replace=False, n_samples = 120)\n",
    "resampled_data = pd.concat([not_all_defense_downsampled, all_defense])\n",
    "\n",
    "resampled_data['all_defensive'].value_counts()"
   ]
  },
  {
   "cell_type": "code",
   "execution_count": 132,
   "metadata": {},
   "outputs": [
    {
     "name": "stdout",
     "output_type": "stream",
     "text": [
      "Accuracy: 0.8064516129032258\n"
     ]
    }
   ],
   "source": [
    "rf = RandomForestClassifier(n_estimators=300, max_depth=3)\n",
    "X = resampled_data.copy().dropna()\n",
    "Y = X['all_defensive']\n",
    "X.drop(['all_defensive'], axis=1, inplace=True)\n",
    "X_train, X_test, y_train, y_test = train_test_split(X, Y, test_size=0.3, random_state= 42)\n",
    "\n",
    "rf.fit(X_train, y_train)\n",
    "\n",
    "y_pred = rf.predict(X_test)\n",
    "\n",
    "print(\"Accuracy:\", metrics.accuracy_score(y_test, y_pred))"
   ]
  },
  {
   "cell_type": "code",
   "execution_count": 79,
   "metadata": {},
   "outputs": [
    {
     "data": {
      "text/plain": [
       "array([[27,  7],\n",
       "       [ 7, 21]], dtype=int64)"
      ]
     },
     "execution_count": 79,
     "metadata": {},
     "output_type": "execute_result"
    }
   ],
   "source": [
    "metrics.confusion_matrix(y_test, y_pred)"
   ]
  },
  {
   "cell_type": "markdown",
   "metadata": {},
   "source": [
    "A lot less false negatives but now more false positives. Model tuning will have to be done to get a clearer picture as to whether this dataset is good."
   ]
  },
  {
   "cell_type": "code",
   "execution_count": 48,
   "metadata": {},
   "outputs": [
    {
     "data": {
      "text/plain": [
       "array([1], dtype=int64)"
      ]
     },
     "execution_count": 48,
     "metadata": {},
     "output_type": "execute_result"
    }
   ],
   "source": [
    "example_player_df = get_stats('Ben Simmons', stat_type='ADVANCED', playoffs=False, career=False)[0:1].drop(['TEAM', 'AGE', 'SEASON', 'LEAGUE', 'POS'], axis=1)\n",
    "rf.predict(example_player_df)"
   ]
  },
  {
   "cell_type": "code",
   "execution_count": 57,
   "metadata": {},
   "outputs": [
    {
     "data": {
      "text/plain": [
       "array([0], dtype=int64)"
      ]
     },
     "execution_count": 57,
     "metadata": {},
     "output_type": "execute_result"
    }
   ],
   "source": [
    "example_player_df = get_stats('Trae Young', stat_type='ADVANCED', playoffs=False, career=False)[0:1].drop(['TEAM', 'AGE', 'SEASON', 'LEAGUE', 'POS'], axis=1)\n",
    "rf.predict(example_player_df)"
   ]
  },
  {
   "cell_type": "markdown",
   "metadata": {},
   "source": [
    "A little sanity check to make sure the model has improved from classifying everything as non defensive. "
   ]
  },
  {
   "cell_type": "markdown",
   "metadata": {},
   "source": [
    "## Model tuning"
   ]
  },
  {
   "cell_type": "code",
   "execution_count": 133,
   "metadata": {},
   "outputs": [],
   "source": [
    "rf = RandomForestClassifier(n_estimators=300, max_depth=3)\n",
    "rfe = RFE(rf,10)\n",
    "rfe = rfe.fit(X, Y)"
   ]
  },
  {
   "cell_type": "code",
   "execution_count": 134,
   "metadata": {},
   "outputs": [
    {
     "data": {
      "text/plain": [
       "['BLK%',\n",
       " 'BPM',\n",
       " 'DBPM',\n",
       " 'DRB%',\n",
       " 'DWS',\n",
       " 'FTr',\n",
       " 'MP',\n",
       " 'TOV%',\n",
       " 'VORP',\n",
       " 'WS',\n",
       " 'all_defensive']"
      ]
     },
     "execution_count": 134,
     "metadata": {},
     "output_type": "execute_result"
    }
   ],
   "source": [
    "selected_cols = [resampled_data.columns[i] for i in range(len(rfe.support_)) if rfe.support_[i] == True ]\n",
    "selected_cols.append('all_defensive')\n",
    "selected_cols"
   ]
  },
  {
   "cell_type": "code",
   "execution_count": 163,
   "metadata": {},
   "outputs": [
    {
     "data": {
      "text/html": [
       "<div>\n",
       "<style scoped>\n",
       "    .dataframe tbody tr th:only-of-type {\n",
       "        vertical-align: middle;\n",
       "    }\n",
       "\n",
       "    .dataframe tbody tr th {\n",
       "        vertical-align: top;\n",
       "    }\n",
       "\n",
       "    .dataframe thead th {\n",
       "        text-align: right;\n",
       "    }\n",
       "</style>\n",
       "<table border=\"1\" class=\"dataframe\">\n",
       "  <thead>\n",
       "    <tr style=\"text-align: right;\">\n",
       "      <th></th>\n",
       "      <th>BLK%</th>\n",
       "      <th>BPM</th>\n",
       "      <th>DBPM</th>\n",
       "      <th>DRB%</th>\n",
       "      <th>DWS</th>\n",
       "      <th>FTr</th>\n",
       "      <th>TOV%</th>\n",
       "      <th>VORP</th>\n",
       "      <th>all_defensive</th>\n",
       "      <th>G</th>\n",
       "      <th>MP</th>\n",
       "    </tr>\n",
       "  </thead>\n",
       "  <tbody>\n",
       "    <tr>\n",
       "      <th>1148</th>\n",
       "      <td>1.7</td>\n",
       "      <td>-1.6</td>\n",
       "      <td>-0.4</td>\n",
       "      <td>14.5</td>\n",
       "      <td>1.3</td>\n",
       "      <td>0.318</td>\n",
       "      <td>10.2</td>\n",
       "      <td>0.2</td>\n",
       "      <td>0</td>\n",
       "      <td>68.0</td>\n",
       "      <td>1719.0</td>\n",
       "    </tr>\n",
       "    <tr>\n",
       "      <th>144</th>\n",
       "      <td>0.5</td>\n",
       "      <td>-6.2</td>\n",
       "      <td>-1.6</td>\n",
       "      <td>8.0</td>\n",
       "      <td>0.1</td>\n",
       "      <td>0.277</td>\n",
       "      <td>14.5</td>\n",
       "      <td>-1.5</td>\n",
       "      <td>0</td>\n",
       "      <td>61.0</td>\n",
       "      <td>1418.0</td>\n",
       "    </tr>\n",
       "    <tr>\n",
       "      <th>357</th>\n",
       "      <td>0.5</td>\n",
       "      <td>-0.7</td>\n",
       "      <td>0.0</td>\n",
       "      <td>13.8</td>\n",
       "      <td>1.1</td>\n",
       "      <td>0.339</td>\n",
       "      <td>11.1</td>\n",
       "      <td>0.4</td>\n",
       "      <td>0</td>\n",
       "      <td>73.0</td>\n",
       "      <td>1384.0</td>\n",
       "    </tr>\n",
       "  </tbody>\n",
       "</table>\n",
       "</div>"
      ],
      "text/plain": [
       "      BLK%  BPM  DBPM  DRB%  DWS    FTr  TOV%  VORP  all_defensive     G  \\\n",
       "1148   1.7 -1.6  -0.4  14.5  1.3  0.318  10.2   0.2              0  68.0   \n",
       "144    0.5 -6.2  -1.6   8.0  0.1  0.277  14.5  -1.5              0  61.0   \n",
       "357    0.5 -0.7   0.0  13.8  1.1  0.339  11.1   0.4              0  73.0   \n",
       "\n",
       "          MP  \n",
       "1148  1719.0  \n",
       "144   1418.0  \n",
       "357   1384.0  "
      ]
     },
     "execution_count": 163,
     "metadata": {},
     "output_type": "execute_result"
    }
   ],
   "source": [
    "reduced_df = resampled_data.loc[:, selected_cols]\n",
    "reduced_df.head(3)"
   ]
  },
  {
   "cell_type": "code",
   "execution_count": 82,
   "metadata": {},
   "outputs": [
    {
     "name": "stdout",
     "output_type": "stream",
     "text": [
      "Accuracy: 0.7741935483870968\n"
     ]
    }
   ],
   "source": [
    "rf = RandomForestClassifier(n_estimators=300, max_depth=3)\n",
    "X = reduced_df.copy().dropna()\n",
    "Y = X['all_defensive']\n",
    "X.drop(['all_defensive'], axis=1, inplace=True)\n",
    "\n",
    "rf.fit(X_train, y_train)\n",
    "\n",
    "y_pred = rf.predict(X_test)\n",
    "\n",
    "print(\"Accuracy:\", metrics.accuracy_score(y_test, y_pred))"
   ]
  },
  {
   "cell_type": "code",
   "execution_count": 68,
   "metadata": {},
   "outputs": [
    {
     "data": {
      "text/plain": [
       "array([[30,  5],\n",
       "       [ 6, 21]], dtype=int64)"
      ]
     },
     "execution_count": 68,
     "metadata": {},
     "output_type": "execute_result"
    }
   ],
   "source": [
    "metrics.confusion_matrix(y_test, y_pred)"
   ]
  },
  {
   "cell_type": "code",
   "execution_count": 156,
   "metadata": {},
   "outputs": [
    {
     "name": "stdout",
     "output_type": "stream",
     "text": [
      "Fitting 3 folds for each of 144 candidates, totalling 432 fits\n"
     ]
    },
    {
     "name": "stderr",
     "output_type": "stream",
     "text": [
      "[Parallel(n_jobs=-1)]: Using backend LokyBackend with 4 concurrent workers.\n",
      "[Parallel(n_jobs=-1)]: Done  33 tasks      | elapsed:   26.7s\n",
      "[Parallel(n_jobs=-1)]: Done 154 tasks      | elapsed:  1.9min\n",
      "[Parallel(n_jobs=-1)]: Done 357 tasks      | elapsed:  4.3min\n",
      "[Parallel(n_jobs=-1)]: Done 432 out of 432 | elapsed:  5.2min finished\n"
     ]
    },
    {
     "data": {
      "text/plain": [
       "{'bootstrap': True,\n",
       " 'max_depth': 90,\n",
       " 'min_samples_leaf': 5,\n",
       " 'min_samples_split': 8,\n",
       " 'n_estimators': 300}"
      ]
     },
     "execution_count": 156,
     "metadata": {},
     "output_type": "execute_result"
    }
   ],
   "source": [
    "# Create the parameter grid based on the results of random search \n",
    "param_grid = {\n",
    "    'bootstrap': [True],\n",
    "    'max_depth': [80, 90, 100, 110],\n",
    "    'min_samples_leaf': [3, 4, 5],\n",
    "    'min_samples_split': [8, 10, 12],\n",
    "    'n_estimators': [100, 200, 300, 1000]\n",
    "}\n",
    "# Create a based model\n",
    "rf = RandomForestClassifier()\n",
    "# Instantiate the grid search model\n",
    "grid_search = GridSearchCV(estimator = rf, param_grid = param_grid, \n",
    "                          cv = 3, n_jobs = -1, verbose = 2)\n",
    "\n",
    "# Fit the grid search to the data\n",
    "grid_search.fit(X, Y)\n",
    "best_grid = grid_search.best_estimator_\n",
    "grid_search.best_params_"
   ]
  },
  {
   "cell_type": "code",
   "execution_count": 136,
   "metadata": {},
   "outputs": [
    {
     "name": "stdout",
     "output_type": "stream",
     "text": [
      "Accuracy: 0.7741935483870968\n"
     ]
    }
   ],
   "source": [
    "best_grid\n",
    "y_pred = best_grid.predict(X_test)\n",
    "\n",
    "print(\"Accuracy:\", metrics.accuracy_score(y_test, y_pred))"
   ]
  },
  {
   "cell_type": "markdown",
   "metadata": {},
   "source": [
    "## Direct Comparison"
   ]
  },
  {
   "cell_type": "code",
   "execution_count": 164,
   "metadata": {},
   "outputs": [],
   "source": [
    "kfold = KFold(n_splits=3, shuffle=True, random_state=5)\n",
    "scoring = 'accuracy'"
   ]
  },
  {
   "cell_type": "code",
   "execution_count": 165,
   "metadata": {},
   "outputs": [
    {
     "name": "stdout",
     "output_type": "stream",
     "text": [
      "0.763388937664618\n"
     ]
    }
   ],
   "source": [
    "#Resampled without hypyerparameter tuning\n",
    "rf = RandomForestClassifier(n_estimators=300, max_depth=3)\n",
    "X = resampled_data.copy().dropna()\n",
    "Y = X['all_defensive']\n",
    "X.drop(['all_defensive'], axis=1, inplace=True)\n",
    "print(cross_val_score(rf, X, Y, cv=kfold, scoring=scoring).mean())"
   ]
  },
  {
   "cell_type": "code",
   "execution_count": 166,
   "metadata": {},
   "outputs": [
    {
     "name": "stdout",
     "output_type": "stream",
     "text": [
      "0.7647058823529411\n"
     ]
    }
   ],
   "source": [
    "#Reduced feature set \n",
    "rf = RandomForestClassifier(n_estimators=300, max_depth=3)\n",
    "X = reduced_df.copy().dropna()\n",
    "Y = X['all_defensive']\n",
    "X.drop(['all_defensive'], axis=1, inplace=True)\n",
    "\n",
    "print(cross_val_score(rf, X, Y, cv=kfold, scoring=scoring).mean())"
   ]
  },
  {
   "cell_type": "code",
   "execution_count": 167,
   "metadata": {},
   "outputs": [
    {
     "name": "stdout",
     "output_type": "stream",
     "text": [
      "0.7696078431372548\n"
     ]
    }
   ],
   "source": [
    "#Best hyperparameters \n",
    "rf = RandomForestClassifier(bootstrap= True,max_depth= 90,min_samples_leaf=5,min_samples_split=8,n_estimators=300)\n",
    "X = reduced_df.copy().dropna()\n",
    "Y = X['all_defensive']\n",
    "X.drop(['all_defensive'], axis=1, inplace=True)\n",
    "\n",
    "print(cross_val_score(rf, X, Y, cv=kfold, scoring=scoring).mean())"
   ]
  },
  {
   "cell_type": "code",
   "execution_count": 156,
   "metadata": {},
   "outputs": [
    {
     "data": {
      "text/plain": [
       "array([[0.18807602, 0.81192398]])"
      ]
     },
     "execution_count": 156,
     "metadata": {},
     "output_type": "execute_result"
    }
   ],
   "source": [
    "rf.fit(X,Y)\n",
    "modified_cols = selected_cols.copy()\n",
    "modified_cols.remove('all_defensive')\n",
    "rf.predict_proba(example_player_df.loc[:, modified_cols])"
   ]
  },
  {
   "cell_type": "markdown",
   "metadata": {},
   "source": [
    "## Investigating Scaling Data"
   ]
  },
  {
   "cell_type": "code",
   "execution_count": 168,
   "metadata": {},
   "outputs": [
    {
     "data": {
      "text/html": [
       "<div>\n",
       "<style scoped>\n",
       "    .dataframe tbody tr th:only-of-type {\n",
       "        vertical-align: middle;\n",
       "    }\n",
       "\n",
       "    .dataframe tbody tr th {\n",
       "        vertical-align: top;\n",
       "    }\n",
       "\n",
       "    .dataframe thead th {\n",
       "        text-align: right;\n",
       "    }\n",
       "</style>\n",
       "<table border=\"1\" class=\"dataframe\">\n",
       "  <thead>\n",
       "    <tr style=\"text-align: right;\">\n",
       "      <th></th>\n",
       "      <th>3PAr</th>\n",
       "      <th>AST%</th>\n",
       "      <th>BLK%</th>\n",
       "      <th>BPM</th>\n",
       "      <th>DBPM</th>\n",
       "      <th>DRB%</th>\n",
       "      <th>DWS</th>\n",
       "      <th>FTr</th>\n",
       "      <th>G</th>\n",
       "      <th>MP</th>\n",
       "      <th>...</th>\n",
       "      <th>PER</th>\n",
       "      <th>STL%</th>\n",
       "      <th>TOV%</th>\n",
       "      <th>TRB%</th>\n",
       "      <th>TS%</th>\n",
       "      <th>USG%</th>\n",
       "      <th>VORP</th>\n",
       "      <th>WS</th>\n",
       "      <th>WS/48</th>\n",
       "      <th>all_defensive</th>\n",
       "    </tr>\n",
       "  </thead>\n",
       "  <tbody>\n",
       "    <tr>\n",
       "      <th>0</th>\n",
       "      <td>0.855687</td>\n",
       "      <td>-0.229811</td>\n",
       "      <td>-0.143009</td>\n",
       "      <td>-0.740410</td>\n",
       "      <td>-0.859012</td>\n",
       "      <td>-0.089222</td>\n",
       "      <td>-0.392525</td>\n",
       "      <td>-0.047986</td>\n",
       "      <td>1.049676</td>\n",
       "      <td>1.508734</td>\n",
       "      <td>...</td>\n",
       "      <td>-0.954351</td>\n",
       "      <td>-0.836543</td>\n",
       "      <td>-0.594931</td>\n",
       "      <td>-0.535039</td>\n",
       "      <td>-0.516167</td>\n",
       "      <td>-0.502529</td>\n",
       "      <td>-1.788873</td>\n",
       "      <td>-0.990246</td>\n",
       "      <td>-1.076079</td>\n",
       "      <td>0</td>\n",
       "    </tr>\n",
       "    <tr>\n",
       "      <th>1</th>\n",
       "      <td>1.850509</td>\n",
       "      <td>0.881643</td>\n",
       "      <td>-0.076121</td>\n",
       "      <td>-0.338413</td>\n",
       "      <td>0.861678</td>\n",
       "      <td>-0.783910</td>\n",
       "      <td>0.491006</td>\n",
       "      <td>1.286734</td>\n",
       "      <td>0.645417</td>\n",
       "      <td>0.422779</td>\n",
       "      <td>...</td>\n",
       "      <td>-0.898719</td>\n",
       "      <td>0.283448</td>\n",
       "      <td>0.090570</td>\n",
       "      <td>-1.075115</td>\n",
       "      <td>-0.460730</td>\n",
       "      <td>-0.600038</td>\n",
       "      <td>-0.706145</td>\n",
       "      <td>0.001174</td>\n",
       "      <td>-0.056401</td>\n",
       "      <td>0</td>\n",
       "    </tr>\n",
       "  </tbody>\n",
       "</table>\n",
       "<p>2 rows × 23 columns</p>\n",
       "</div>"
      ],
      "text/plain": [
       "       3PAr      AST%      BLK%       BPM      DBPM      DRB%       DWS  \\\n",
       "0  0.855687 -0.229811 -0.143009 -0.740410 -0.859012 -0.089222 -0.392525   \n",
       "1  1.850509  0.881643 -0.076121 -0.338413  0.861678 -0.783910  0.491006   \n",
       "\n",
       "        FTr         G        MP  ...       PER      STL%      TOV%      TRB%  \\\n",
       "0 -0.047986  1.049676  1.508734  ... -0.954351 -0.836543 -0.594931 -0.535039   \n",
       "1  1.286734  0.645417  0.422779  ... -0.898719  0.283448  0.090570 -1.075115   \n",
       "\n",
       "        TS%      USG%      VORP        WS     WS/48  all_defensive  \n",
       "0 -0.516167 -0.502529 -1.788873 -0.990246 -1.076079              0  \n",
       "1 -0.460730 -0.600038 -0.706145  0.001174 -0.056401              0  \n",
       "\n",
       "[2 rows x 23 columns]"
      ]
     },
     "execution_count": 168,
     "metadata": {},
     "output_type": "execute_result"
    }
   ],
   "source": [
    "from sklearn.preprocessing import StandardScaler\n",
    "#Scaling Numerical columns\n",
    "std = StandardScaler()\n",
    "scaled = std.fit_transform(train_df.loc[:, train_df.columns[:22]])\n",
    "scaled = pd.DataFrame(scaled,columns=train_df.columns[:22])\n",
    "scaled['all_defensive'] = train_df['all_defensive']\n",
    "scaled.head(2)"
   ]
  },
  {
   "cell_type": "code",
   "execution_count": 169,
   "metadata": {},
   "outputs": [],
   "source": [
    "all_defense = scaled[scaled['all_defensive'] == 1]\n",
    "not_all_defense = scaled[scaled['all_defensive'] == 0]\n",
    "\n",
    "not_all_defense_downsampled = resample(not_all_defense, replace=False, n_samples = 120)\n",
    "scaled_resampled_data = pd.concat([not_all_defense_downsampled, all_defense])\n"
   ]
  },
  {
   "cell_type": "code",
   "execution_count": 170,
   "metadata": {},
   "outputs": [],
   "source": [
    "scaled_reduced_df = scaled_resampled_data.loc[:, selected_cols]"
   ]
  },
  {
   "cell_type": "code",
   "execution_count": 171,
   "metadata": {},
   "outputs": [
    {
     "name": "stdout",
     "output_type": "stream",
     "text": [
      "0.701974992895709\n"
     ]
    }
   ],
   "source": [
    "rf = RandomForestClassifier(n_estimators=300, max_depth=3)\n",
    "X = scaled_reduced_df.copy().dropna()\n",
    "Y = X['all_defensive']\n",
    "X.drop(['all_defensive'], axis=1, inplace=True)\n",
    "\n",
    "print(cross_val_score(rf, X, Y, cv=kfold, scoring=scoring).mean())"
   ]
  },
  {
   "cell_type": "markdown",
   "metadata": {},
   "source": [
    "## Selection"
   ]
  },
  {
   "cell_type": "code",
   "execution_count": 21,
   "metadata": {},
   "outputs": [
    {
     "data": {
      "text/plain": [
       "RandomForestClassifier(bootstrap=True, ccp_alpha=0.0, class_weight=None,\n",
       "                       criterion='gini', max_depth=90, max_features='auto',\n",
       "                       max_leaf_nodes=None, max_samples=None,\n",
       "                       min_impurity_decrease=0.0, min_impurity_split=None,\n",
       "                       min_samples_leaf=5, min_samples_split=8,\n",
       "                       min_weight_fraction_leaf=0.0, n_estimators=300,\n",
       "                       n_jobs=None, oob_score=False, random_state=None,\n",
       "                       verbose=0, warm_start=False)"
      ]
     },
     "execution_count": 21,
     "metadata": {},
     "output_type": "execute_result"
    }
   ],
   "source": [
    "best_model = RandomForestClassifier(bootstrap= True,max_depth= 90,min_samples_leaf=5,min_samples_split=8,n_estimators=300)\n",
    "X = reduced_df.copy().dropna()\n",
    "Y = X['all_defensive']\n",
    "X.drop(['all_defensive'], axis=1, inplace=True)\n",
    "\n",
    "best_model.fit(X,Y)\n",
    "pickle.dump( best_model, open( \"rf_model.p\", \"wb\" ) )"
   ]
  },
  {
   "cell_type": "code",
   "execution_count": 31,
   "metadata": {},
   "outputs": [
    {
     "data": {
      "text/plain": [
       "array([0, 0], dtype=int64)"
      ]
     },
     "execution_count": 31,
     "metadata": {},
     "output_type": "execute_result"
    }
   ],
   "source": [
    "best_model.predict(predict_df)"
   ]
  },
  {
   "cell_type": "markdown",
   "metadata": {},
   "source": [
    "Some next steps would be to further explore other models and implement a model zoo which should help with predictions. "
   ]
  },
  {
   "cell_type": "code",
   "execution_count": 55,
   "metadata": {},
   "outputs": [],
   "source": [
    "model = pickle.load( open( \"rf_model.p\", \"rb\" ))\n",
    "rookie_dataframe = get_stats('Deandre Ayton', stat_type='ADVANCED', playoffs=False, career=False)\n",
    "input_features = ['BLK%','BPM','DBPM','DRB%','DWS','FTr','G', 'MP','TOV%','VORP']\n",
    "predict_df = rookie_dataframe.loc[:, input_features]"
   ]
  },
  {
   "cell_type": "code",
   "execution_count": 58,
   "metadata": {
    "scrolled": true
   },
   "outputs": [
    {
     "data": {
      "text/plain": [
       "35"
      ]
     },
     "execution_count": 58,
     "metadata": {},
     "output_type": "execute_result"
    }
   ],
   "source": [
    "int(model.predict_proba(predict_df.loc[1:1])[0][1]*100)"
   ]
  },
  {
   "cell_type": "code",
   "execution_count": null,
   "metadata": {},
   "outputs": [],
   "source": []
  }
 ],
 "metadata": {
  "kernelspec": {
   "display_name": "Python nba_classify",
   "language": "python",
   "name": "nba_classifier"
  },
  "language_info": {
   "codemirror_mode": {
    "name": "ipython",
    "version": 3
   },
   "file_extension": ".py",
   "mimetype": "text/x-python",
   "name": "python",
   "nbconvert_exporter": "python",
   "pygments_lexer": "ipython3",
   "version": "3.6.10"
  }
 },
 "nbformat": 4,
 "nbformat_minor": 2
}
